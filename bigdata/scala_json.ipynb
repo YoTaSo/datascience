{
 "cells": [
  {
   "cell_type": "markdown",
   "metadata": {},
   "source": [
    "# Devoir maison :  analyse de schémas JSON publiques - Décembre 2019 (version simplifiée)"
   ]
  },
  {
   "cell_type": "markdown",
   "metadata": {},
   "source": [
    "## Description "
   ]
  },
  {
   "cell_type": "markdown",
   "metadata": {},
   "source": [
    "Le but de ce travail est d'analyser des schémas JSON exprimés en JSON Schema afin d'en extraire des statistiques sur l'usage des différentes features, en particulier les objets, les arrays et les contraintes.\n",
    "La spécification officelle se trouve ici\n",
    "\n",
    "* https://json-schema.org\n",
    "\n",
    "Un tutoriel \n",
    "\n",
    "* https://json-schema.org/understanding-json-schema/index.html\n",
    "\n",
    "Les schémas se trouvent dans\n",
    "\n",
    "* https://github.com/SchemaStore/schemastore\n",
    "\n",
    "sous \n",
    "\n",
    "`schemastore/src/schemas/json/`\n",
    "\n",
    "Plus précisément, il est demandé d'extraire, pour un schéma donné, les informations suivantes :\n",
    "* le nombre d'object définis dans le schéma. Pour ce faire, il suffit de compter le nombre de fois où l'attribut `type` prend la valeur `object`. Attention, cet attribut peut apparaitre à n'importe quelle profondeur (cf. exemple qui suit)\n",
    "* le nombre de fields de tous les objects, il s'agit de collecter le nombre de fields apparaissant à l'interieur du field `properties`. Idem que pour `type`, `properties` peut apparaitre à n'importe quelle profondeur (cf. exemple qui suit)\n",
    "* le nombre de `required fields` de tous les objets, il s'agit de collecter, pour chaque field `required`, la taille du tableau qui lui est associé.\n",
    "\n",
    "\n",
    "Le format de sortie exigé est un objet JSON avec quatre attributs:\n",
    "* schema : de type String, contient le nom du fichier du schéma analysé\n",
    "* nbObj : de type Int, contient le nombre d'objects\n",
    "* fieldDist : de type Array[Int], contient les nombres de fields des objets\n",
    "* requiredDist : de type Array[Int], contient les nombres de fields required\n",
    "\n",
    "\n",
    "A titre d'exemple, considérons le schéma `apple-app-site-association.json` pour lequel votre programme doit retourner \n",
    "\n",
    "`{\"schema\": \"apple-app-site-association.json\", \"nbObj\": 3, \"fieldDist\": [1,2,2], \"requiredDist\":[2,1]}`\n",
    "\n",
    "En effet, il y a bien 3 fois `type=\"object\"` en examinant ces paths\n",
    "* type\n",
    "* properties.applinks.type\n",
    "* properties.applinks.properties.details.items.type\n",
    "\n",
    "Il y a également deux paths pour accéder au field `required` qui sont :\n",
    "* required\n",
    "* properties.applinks.required\n",
    "\n",
    "Pour faciliter la réalisation du projet, il est conseiller commencer par extraire touts les chemins à partir du schéma du dataframe obtenu en chargeant votre fichier json. Ces chemins vous servirons à formuler vos requête dataframe pour réaliser les test.\n",
    "\n",
    "Une architecture du programme est suggérée dans ce notebook. Vous pouvez la suivre scrupuleusement ou vous en inspirer pour écrire votre programe. "
   ]
  },
  {
   "cell_type": "markdown",
   "metadata": {},
   "source": [
    "### Deadline"
   ]
  },
  {
   "cell_type": "markdown",
   "metadata": {},
   "source": [
    "A rendre pour le 20-12-2019 18H00 par envoi de mail à baazizi@ia.lip6.fr. Objet : [BDLE-DS-Dec19]\n",
    "\n",
    "Envoyer code + commentaire ou lien publique github contenant code + résultat "
   ]
  },
  {
   "cell_type": "markdown",
   "metadata": {},
   "source": [
    "### Implantation"
   ]
  },
  {
   "cell_type": "markdown",
   "metadata": {},
   "source": [
    "Conseillé d'utiliser dataframe.\n",
    "\n",
    "Test sur 2 schemas du repository au choix : 1 petit (<100 KB) et un grand (>100 KB)\n"
   ]
  },
  {
   "cell_type": "markdown",
   "metadata": {},
   "source": [
    "## Code"
   ]
  },
  {
   "cell_type": "markdown",
   "metadata": {},
   "source": [
    "Rappel des liens de l'API Dataset \n",
    "* https://spark.apache.org/docs/latest/sql-programming-guide.html\n",
    "* https://spark.apache.org/docs/latest/api/scala/index.html#org.apache.spark.sql.Dataset\n",
    "* https://spark.apache.org/docs/latest/api/scala/index.html#org.apache.spark.sql.functions$"
   ]
  },
  {
   "cell_type": "code",
   "execution_count": 2,
   "metadata": {},
   "outputs": [
    {
     "data": {
      "text/plain": [
       "path: String = C:/Users/yousef/Desktop/Courses/json/\n"
      ]
     },
     "execution_count": 2,
     "metadata": {},
     "output_type": "execute_result"
    }
   ],
   "source": [
    "val path = \"C:/Users/yousef/Desktop/Courses/json/\"\n",
    "//\"/tmp/BDLE/dataset/schemastore/\""
   ]
  },
  {
   "cell_type": "code",
   "execution_count": 28,
   "metadata": {},
   "outputs": [
    {
     "data": {
      "text/plain": [
       "file: String = circleciconfig.json\r\n",
       "data: org.apache.spark.sql.DataFrame = [$schema: string, definitions: struct<builtinSteps: struct<configuration: struct<add_ssh_keys: struct<additionalProperties: boolean, allOf: array<struct<$ref:string>> ... 2 more fields>, attach_workspace: struct<additionalProperties: boolean, allOf: array<struct<$ref:string>> ... 3 more fields> ... 9 more fields>, documentation: struct<add_ssh_keys: struct<description: string>, attach_workspace: struct<description: string> ... 9 more fields>>, commands: struct<additionalProperties: struct<description: string, properties: struct<description: struct<description: string, type: string>, parameters: struct<description: string, patternProperties: struct<^[a-z][a-z0-9_-]+$: struct<oneOf: array<struct<description:string,..."
      ]
     },
     "execution_count": 28,
     "metadata": {},
     "output_type": "execute_result"
    }
   ],
   "source": [
    "//val file = \"vega.json\"\n",
    "//val file = \"appsettings.json\"\n",
    "val file=\"circleciconfig.json\"\n",
    "//val file = \"apple-app-site-association.json\"\n",
    "val data = spark.read.format(\"json\").option(\"multiLine\",true).load(path+file)\n",
    "//data.printSchema"
   ]
  },
  {
   "cell_type": "code",
   "execution_count": 29,
   "metadata": {},
   "outputs": [
    {
     "data": {
      "text/plain": [
       "res10: Array[org.apache.spark.sql.types.StructField] = Array(StructField($schema,StringType,true), StructField(definitions,StructType(StructField(builtinSteps,StructType(StructField(configuration,StructType(StructField(add_ssh_keys,StructType(StructField(additionalProperties,BooleanType,true), StructField(allOf,ArrayType(StructType(StructField($ref,StringType,true)),true),true), StructField(properties,StructType(StructField(fingerprints,StructType(StructField(description,StringType,true), StructField(items,StructType(StructField(type,StringType,true)),true), StructField(type,StringType,true)),true), StructField(name,StructType(StructField(description,StringType,true), StructField(type,StringType,true)),true)),true), StructField(type,StringType,true)),true), StructField(attach_workspace,..."
      ]
     },
     "execution_count": 29,
     "metadata": {},
     "output_type": "execute_result"
    }
   ],
   "source": [
    "data.schema.fields"
   ]
  },
  {
   "cell_type": "code",
   "execution_count": 30,
   "metadata": {},
   "outputs": [
    {
     "data": {
      "text/plain": [
       "import org.apache.spark.sql._\r\n",
       "import org.apache.spark.sql.types._\r\n",
       "import org.apache.spark.sql.functions._\n"
      ]
     },
     "execution_count": 30,
     "metadata": {},
     "output_type": "execute_result"
    }
   ],
   "source": [
    "import org.apache.spark.sql._\n",
    "import org.apache.spark.sql.types._\n",
    "import org.apache.spark.sql.functions._\n"
   ]
  },
  {
   "cell_type": "markdown",
   "metadata": {},
   "source": [
    "### Extract all paths from the schema"
   ]
  },
  {
   "cell_type": "code",
   "execution_count": 5,
   "metadata": {},
   "outputs": [
    {
     "data": {
      "text/plain": [
       "_sep: String = .\r\n",
       "fieldNames: (path: Seq[String], schema: org.apache.spark.sql.types.DataType)Seq[String]\n"
      ]
     },
     "execution_count": 5,
     "metadata": {},
     "output_type": "execute_result"
    }
   ],
   "source": [
    "val _sep = \".\" \n",
    "def fieldNames(path: Seq[String], schema: DataType): Seq[String] = {\n",
    "    schema match {\n",
    "        case s: StructType => s.fields.flatMap( f => fieldNames(path++Seq(f.name), f.dataType) )\n",
    "        case a: ArrayType => fieldNames(path, a.elementType)\n",
    "        case _ =>  Seq(path.mkString(_sep))\n",
    "      }\n",
    "}"
   ]
  },
  {
   "cell_type": "code",
   "execution_count": 31,
   "metadata": {},
   "outputs": [
    {
     "name": "stdout",
     "output_type": "stream",
     "text": [
      "$schema\n",
      "definitions.builtinSteps.configuration.add_ssh_keys.additionalProperties\n",
      "definitions.builtinSteps.configuration.add_ssh_keys.allOf.$ref\n",
      "definitions.builtinSteps.configuration.add_ssh_keys.properties.fingerprints.description\n",
      "definitions.builtinSteps.configuration.add_ssh_keys.properties.fingerprints.items.type\n",
      "definitions.builtinSteps.configuration.add_ssh_keys.properties.fingerprints.type\n",
      "definitions.builtinSteps.configuration.add_ssh_keys.properties.name.description\n",
      "definitions.builtinSteps.configuration.add_ssh_keys.properties.name.type\n",
      "definitions.builtinSteps.configuration.add_ssh_keys.type\n",
      "definitions.builtinSteps.configuration.attach_workspace.additionalProperties\n",
      "definitions.builtinSteps.configuration.attach_workspace.allOf.$ref\n",
      "definitions.builtinSteps.configuration.attach_workspace.properties.at.description\n",
      "definitions.builtinSteps.configuration.attach_workspace.properties.at.type\n",
      "definitions.builtinSteps.configuration.attach_workspace.properties.name.description\n",
      "definitions.builtinSteps.configuration.attach_workspace.properties.name.type\n",
      "definitions.builtinSteps.configuration.attach_workspace.required\n",
      "definitions.builtinSteps.configuration.attach_workspace.type\n",
      "definitions.builtinSteps.configuration.checkout.additionalProperties\n",
      "definitions.builtinSteps.configuration.checkout.allOf.$ref\n",
      "definitions.builtinSteps.configuration.checkout.properties.name.description\n",
      "definitions.builtinSteps.configuration.checkout.properties.name.type\n",
      "definitions.builtinSteps.configuration.checkout.properties.path.description\n",
      "definitions.builtinSteps.configuration.checkout.properties.path.type\n",
      "definitions.builtinSteps.configuration.checkout.type\n",
      "definitions.builtinSteps.configuration.deploy.allOf.$ref\n",
      "definitions.builtinSteps.configuration.persist_to_workspace.additionalProperties\n",
      "definitions.builtinSteps.configuration.persist_to_workspace.allOf.$ref\n",
      "definitions.builtinSteps.configuration.persist_to_workspace.properties.name.description\n",
      "definitions.builtinSteps.configuration.persist_to_workspace.properties.name.type\n",
      "definitions.builtinSteps.configuration.persist_to_workspace.properties.paths.description\n",
      "definitions.builtinSteps.configuration.persist_to_workspace.properties.paths.items.type\n",
      "definitions.builtinSteps.configuration.persist_to_workspace.properties.paths.type\n",
      "definitions.builtinSteps.configuration.persist_to_workspace.properties.root.description\n",
      "definitions.builtinSteps.configuration.persist_to_workspace.properties.root.type\n",
      "definitions.builtinSteps.configuration.persist_to_workspace.required\n",
      "definitions.builtinSteps.configuration.persist_to_workspace.type\n",
      "definitions.builtinSteps.configuration.restore_cache.allOf.$ref\n",
      "definitions.builtinSteps.configuration.restore_cache.oneOf.additionalProperties\n",
      "definitions.builtinSteps.configuration.restore_cache.oneOf.properties.key.description\n",
      "definitions.builtinSteps.configuration.restore_cache.oneOf.properties.key.type\n",
      "definitions.builtinSteps.configuration.restore_cache.oneOf.properties.keys.description\n",
      "definitions.builtinSteps.configuration.restore_cache.oneOf.properties.keys.items.type\n",
      "definitions.builtinSteps.configuration.restore_cache.oneOf.properties.keys.type\n",
      "definitions.builtinSteps.configuration.restore_cache.oneOf.properties.name.description\n",
      "definitions.builtinSteps.configuration.restore_cache.oneOf.properties.name.type\n",
      "definitions.builtinSteps.configuration.restore_cache.oneOf.required\n",
      "definitions.builtinSteps.configuration.restore_cache.oneOf.type\n",
      "definitions.builtinSteps.configuration.run.allOf.$ref\n",
      "definitions.builtinSteps.configuration.run.oneOf.additionalProperties\n",
      "definitions.builtinSteps.configuration.run.oneOf.properties.background.default\n",
      "definitions.builtinSteps.configuration.run.oneOf.properties.background.description\n",
      "definitions.builtinSteps.configuration.run.oneOf.properties.background.type\n",
      "definitions.builtinSteps.configuration.run.oneOf.properties.command.description\n",
      "definitions.builtinSteps.configuration.run.oneOf.properties.command.type\n",
      "definitions.builtinSteps.configuration.run.oneOf.properties.environment.additionalProperties.type\n",
      "definitions.builtinSteps.configuration.run.oneOf.properties.environment.description\n",
      "definitions.builtinSteps.configuration.run.oneOf.properties.environment.type\n",
      "definitions.builtinSteps.configuration.run.oneOf.properties.name.description\n",
      "definitions.builtinSteps.configuration.run.oneOf.properties.name.type\n",
      "definitions.builtinSteps.configuration.run.oneOf.properties.no_output_timeout.default\n",
      "definitions.builtinSteps.configuration.run.oneOf.properties.no_output_timeout.description\n",
      "definitions.builtinSteps.configuration.run.oneOf.properties.no_output_timeout.pattern\n",
      "definitions.builtinSteps.configuration.run.oneOf.properties.no_output_timeout.type\n",
      "definitions.builtinSteps.configuration.run.oneOf.properties.shell.description\n",
      "definitions.builtinSteps.configuration.run.oneOf.properties.shell.type\n",
      "definitions.builtinSteps.configuration.run.oneOf.properties.when.description\n",
      "definitions.builtinSteps.configuration.run.oneOf.properties.when.enum\n",
      "definitions.builtinSteps.configuration.run.oneOf.properties.working_directory.description\n",
      "definitions.builtinSteps.configuration.run.oneOf.properties.working_directory.type\n",
      "definitions.builtinSteps.configuration.run.oneOf.required\n",
      "definitions.builtinSteps.configuration.run.oneOf.type\n",
      "definitions.builtinSteps.configuration.save_cache.additionalProperties\n",
      "definitions.builtinSteps.configuration.save_cache.allOf.$ref\n",
      "definitions.builtinSteps.configuration.save_cache.properties.key.description\n",
      "definitions.builtinSteps.configuration.save_cache.properties.key.type\n",
      "definitions.builtinSteps.configuration.save_cache.properties.name.description\n",
      "definitions.builtinSteps.configuration.save_cache.properties.name.type\n",
      "definitions.builtinSteps.configuration.save_cache.properties.paths.description\n",
      "definitions.builtinSteps.configuration.save_cache.properties.paths.items.type\n",
      "definitions.builtinSteps.configuration.save_cache.properties.paths.type\n",
      "definitions.builtinSteps.configuration.save_cache.properties.when.description\n",
      "definitions.builtinSteps.configuration.save_cache.properties.when.enum\n",
      "definitions.builtinSteps.configuration.save_cache.required\n",
      "definitions.builtinSteps.configuration.save_cache.type\n",
      "definitions.builtinSteps.configuration.setup_remote_docker.additionalProperties\n",
      "definitions.builtinSteps.configuration.setup_remote_docker.allOf.$ref\n",
      "definitions.builtinSteps.configuration.setup_remote_docker.properties.docker_layer_caching.default\n",
      "definitions.builtinSteps.configuration.setup_remote_docker.properties.docker_layer_caching.description\n",
      "definitions.builtinSteps.configuration.setup_remote_docker.properties.docker_layer_caching.type\n",
      "definitions.builtinSteps.configuration.setup_remote_docker.properties.name.description\n",
      "definitions.builtinSteps.configuration.setup_remote_docker.properties.name.type\n",
      "definitions.builtinSteps.configuration.setup_remote_docker.properties.version.default\n",
      "definitions.builtinSteps.configuration.setup_remote_docker.properties.version.description\n",
      "definitions.builtinSteps.configuration.setup_remote_docker.properties.version.enum\n",
      "definitions.builtinSteps.configuration.setup_remote_docker.type\n",
      "definitions.builtinSteps.configuration.store_artifacts.additionalProperties\n",
      "definitions.builtinSteps.configuration.store_artifacts.allOf.$ref\n",
      "definitions.builtinSteps.configuration.store_artifacts.properties.destination.description\n",
      "definitions.builtinSteps.configuration.store_artifacts.properties.destination.type\n",
      "definitions.builtinSteps.configuration.store_artifacts.properties.name.description\n",
      "definitions.builtinSteps.configuration.store_artifacts.properties.name.type\n",
      "definitions.builtinSteps.configuration.store_artifacts.properties.path.description\n",
      "definitions.builtinSteps.configuration.store_artifacts.properties.path.type\n",
      "definitions.builtinSteps.configuration.store_artifacts.required\n",
      "definitions.builtinSteps.configuration.store_artifacts.type\n",
      "definitions.builtinSteps.configuration.store_test_results.additionalProperties\n",
      "definitions.builtinSteps.configuration.store_test_results.allOf.$ref\n",
      "definitions.builtinSteps.configuration.store_test_results.properties.name.description\n",
      "definitions.builtinSteps.configuration.store_test_results.properties.name.type\n",
      "definitions.builtinSteps.configuration.store_test_results.properties.path.description\n",
      "definitions.builtinSteps.configuration.store_test_results.properties.path.type\n",
      "definitions.builtinSteps.configuration.store_test_results.required\n",
      "definitions.builtinSteps.configuration.store_test_results.type\n",
      "definitions.builtinSteps.documentation.add_ssh_keys.description\n",
      "definitions.builtinSteps.documentation.attach_workspace.description\n",
      "definitions.builtinSteps.documentation.checkout.description\n",
      "definitions.builtinSteps.documentation.deploy.description\n",
      "definitions.builtinSteps.documentation.persist_to_workspace.description\n",
      "definitions.builtinSteps.documentation.restore_cache.description\n",
      "definitions.builtinSteps.documentation.run.description\n",
      "definitions.builtinSteps.documentation.save_cache.description\n",
      "definitions.builtinSteps.documentation.setup_remote_docker.description\n",
      "definitions.builtinSteps.documentation.store_artifacts.description\n",
      "definitions.builtinSteps.documentation.store_test_results.description\n",
      "definitions.commands.additionalProperties.description\n",
      "definitions.commands.additionalProperties.properties.description.description\n",
      "definitions.commands.additionalProperties.properties.description.type\n",
      "definitions.commands.additionalProperties.properties.parameters.description\n",
      "definitions.commands.additionalProperties.properties.parameters.patternProperties.^[a-z][a-z0-9_-]+$.oneOf.description\n",
      "definitions.commands.additionalProperties.properties.parameters.patternProperties.^[a-z][a-z0-9_-]+$.oneOf.properties.default.items.$ref\n",
      "definitions.commands.additionalProperties.properties.parameters.patternProperties.^[a-z][a-z0-9_-]+$.oneOf.properties.default.pattern\n",
      "definitions.commands.additionalProperties.properties.parameters.patternProperties.^[a-z][a-z0-9_-]+$.oneOf.properties.default.type\n",
      "definitions.commands.additionalProperties.properties.parameters.patternProperties.^[a-z][a-z0-9_-]+$.oneOf.properties.description.type\n",
      "definitions.commands.additionalProperties.properties.parameters.patternProperties.^[a-z][a-z0-9_-]+$.oneOf.properties.enum.items.type\n",
      "definitions.commands.additionalProperties.properties.parameters.patternProperties.^[a-z][a-z0-9_-]+$.oneOf.properties.enum.minItems\n",
      "definitions.commands.additionalProperties.properties.parameters.patternProperties.^[a-z][a-z0-9_-]+$.oneOf.properties.enum.type\n",
      "definitions.commands.additionalProperties.properties.parameters.patternProperties.^[a-z][a-z0-9_-]+$.oneOf.properties.type.enum\n",
      "definitions.commands.additionalProperties.properties.parameters.patternProperties.^[a-z][a-z0-9_-]+$.oneOf.required\n",
      "definitions.commands.additionalProperties.properties.parameters.patternProperties.^[a-z][a-z0-9_-]+$.oneOf.type\n",
      "definitions.commands.additionalProperties.properties.parameters.type\n",
      "definitions.commands.additionalProperties.properties.steps.description\n",
      "definitions.commands.additionalProperties.properties.steps.items.$ref\n",
      "definitions.commands.additionalProperties.properties.steps.type\n",
      "definitions.commands.additionalProperties.required\n",
      "definitions.commands.additionalProperties.type\n",
      "definitions.commands.description\n",
      "definitions.commands.type\n",
      "definitions.dockerExecutor.description\n",
      "definitions.dockerExecutor.items.additionalProperties\n",
      "definitions.dockerExecutor.items.properties.auth.additionalProperties\n",
      "definitions.dockerExecutor.items.properties.auth.description\n",
      "definitions.dockerExecutor.items.properties.auth.properties.password.type\n",
      "definitions.dockerExecutor.items.properties.auth.properties.username.type\n",
      "definitions.dockerExecutor.items.properties.auth.type\n",
      "definitions.dockerExecutor.items.properties.aws_auth.additionalProperties\n",
      "definitions.dockerExecutor.items.properties.aws_auth.description\n",
      "definitions.dockerExecutor.items.properties.aws_auth.properties.aws_access_key_id.type\n",
      "definitions.dockerExecutor.items.properties.aws_auth.properties.aws_secret_access_key.type\n",
      "definitions.dockerExecutor.items.properties.aws_auth.type\n"
     ]
    },
    {
     "name": "stdout",
     "output_type": "stream",
     "text": [
      "definitions.dockerExecutor.items.properties.command.description\n",
      "definitions.dockerExecutor.items.properties.command.oneOf.items.type\n",
      "definitions.dockerExecutor.items.properties.command.oneOf.type\n",
      "definitions.dockerExecutor.items.properties.entrypoint.description\n",
      "definitions.dockerExecutor.items.properties.entrypoint.oneOf.items.type\n",
      "definitions.dockerExecutor.items.properties.entrypoint.oneOf.type\n",
      "definitions.dockerExecutor.items.properties.environment.additionalProperties.type\n",
      "definitions.dockerExecutor.items.properties.environment.description\n",
      "definitions.dockerExecutor.items.properties.environment.type\n",
      "definitions.dockerExecutor.items.properties.image.description\n",
      "definitions.dockerExecutor.items.properties.image.type\n",
      "definitions.dockerExecutor.items.properties.name.description\n",
      "definitions.dockerExecutor.items.properties.name.type\n",
      "definitions.dockerExecutor.items.properties.user.description\n",
      "definitions.dockerExecutor.items.properties.user.type\n",
      "definitions.dockerExecutor.items.required\n",
      "definitions.dockerExecutor.items.type\n",
      "definitions.dockerExecutor.type\n",
      "definitions.executorChoice.oneOf.properties.docker.$ref\n",
      "definitions.executorChoice.oneOf.properties.machine.$ref\n",
      "definitions.executorChoice.oneOf.properties.macos.$ref\n",
      "definitions.executorChoice.oneOf.properties.resource_class.default\n",
      "definitions.executorChoice.oneOf.properties.resource_class.description\n",
      "definitions.executorChoice.oneOf.properties.resource_class.enum\n",
      "definitions.executorChoice.oneOf.properties.resource_class.type\n",
      "definitions.executorChoice.oneOf.required\n",
      "definitions.executorChoice.oneOf.type\n",
      "definitions.executors.additionalProperties.$ref\n",
      "definitions.executors.additionalProperties.properties.environment.additionalProperties.type\n",
      "definitions.executors.additionalProperties.properties.environment.description\n",
      "definitions.executors.additionalProperties.properties.environment.type\n",
      "definitions.executors.additionalProperties.properties.shell.description\n",
      "definitions.executors.additionalProperties.properties.shell.type\n",
      "definitions.executors.additionalProperties.properties.working_directory.description\n",
      "definitions.executors.additionalProperties.properties.working_directory.type\n",
      "definitions.executors.additionalProperties.type\n",
      "definitions.executors.description\n",
      "definitions.executors.type\n",
      "definitions.filter.additionalProperties\n",
      "definitions.filter.description\n",
      "definitions.filter.properties.ignore.description\n",
      "definitions.filter.properties.ignore.oneOf.items.type\n",
      "definitions.filter.properties.ignore.oneOf.type\n",
      "definitions.filter.properties.only.description\n",
      "definitions.filter.properties.only.oneOf.items.type\n",
      "definitions.filter.properties.only.oneOf.type\n",
      "definitions.filter.type\n",
      "definitions.jobs.additionalProperties.oneOf.$ref\n",
      "definitions.jobs.additionalProperties.oneOf.properties.executor.description\n",
      "definitions.jobs.additionalProperties.oneOf.properties.executor.type\n",
      "definitions.jobs.additionalProperties.oneOf.required\n",
      "definitions.jobs.additionalProperties.oneOf.type\n",
      "definitions.jobs.additionalProperties.properties.branches.additionalProperties.type\n",
      "definitions.jobs.additionalProperties.properties.branches.description\n",
      "definitions.jobs.additionalProperties.properties.branches.type\n",
      "definitions.jobs.additionalProperties.properties.environment.additionalProperties.type\n",
      "definitions.jobs.additionalProperties.properties.environment.description\n",
      "definitions.jobs.additionalProperties.properties.environment.type\n",
      "definitions.jobs.additionalProperties.properties.parallelism.default\n",
      "definitions.jobs.additionalProperties.properties.parallelism.description\n",
      "definitions.jobs.additionalProperties.properties.parallelism.type\n",
      "definitions.jobs.additionalProperties.properties.shell.description\n",
      "definitions.jobs.additionalProperties.properties.shell.type\n",
      "definitions.jobs.additionalProperties.properties.steps.description\n",
      "definitions.jobs.additionalProperties.properties.steps.items.$ref\n",
      "definitions.jobs.additionalProperties.properties.steps.type\n",
      "definitions.jobs.additionalProperties.properties.working_directory.default\n",
      "definitions.jobs.additionalProperties.properties.working_directory.description\n",
      "definitions.jobs.additionalProperties.properties.working_directory.type\n",
      "definitions.jobs.additionalProperties.required\n",
      "definitions.jobs.additionalProperties.type\n",
      "definitions.jobs.type\n",
      "definitions.machineExecutor.additionalProperties\n",
      "definitions.machineExecutor.description\n",
      "definitions.machineExecutor.properties.docker_layer_caching.default\n",
      "definitions.machineExecutor.properties.docker_layer_caching.description\n",
      "definitions.machineExecutor.properties.docker_layer_caching.type\n",
      "definitions.machineExecutor.properties.image.default\n",
      "definitions.machineExecutor.properties.image.description\n",
      "definitions.machineExecutor.properties.image.type\n",
      "definitions.machineExecutor.required\n",
      "definitions.machineExecutor.type\n",
      "definitions.macosExecutor.additionalProperties\n",
      "definitions.macosExecutor.description\n",
      "definitions.macosExecutor.properties.xcode.description\n",
      "definitions.macosExecutor.properties.xcode.type\n",
      "definitions.macosExecutor.required\n",
      "definitions.macosExecutor.type\n",
      "definitions.orbs.additionalProperties.oneOf.description\n",
      "definitions.orbs.additionalProperties.oneOf.pattern\n",
      "definitions.orbs.additionalProperties.oneOf.properties.commands.$ref\n",
      "definitions.orbs.additionalProperties.oneOf.properties.executors.$ref\n",
      "definitions.orbs.additionalProperties.oneOf.properties.jobs.$ref\n",
      "definitions.orbs.additionalProperties.oneOf.properties.orbs.$ref\n",
      "definitions.orbs.additionalProperties.oneOf.type\n",
      "definitions.orbs.description\n",
      "definitions.orbs.type\n",
      "definitions.step.anyOf.$ref\n",
      "definitions.step.anyOf.description\n",
      "definitions.step.anyOf.enum\n",
      "definitions.step.anyOf.maxProperties\n",
      "definitions.step.anyOf.minProperties\n",
      "definitions.step.anyOf.pattern\n",
      "definitions.step.anyOf.patternProperties.^[a-z][a-z0-9_-]+$.description\n",
      "definitions.step.anyOf.patternProperties.^[a-z][a-z0-9_-]+/[a-z][a-z0-9_-]+$.description\n",
      "definitions.step.anyOf.properties.add_ssh_keys.$ref\n",
      "definitions.step.anyOf.properties.attach_workspace.$ref\n",
      "definitions.step.anyOf.properties.checkout.$ref\n",
      "definitions.step.anyOf.properties.deploy.$ref\n",
      "definitions.step.anyOf.properties.persist_to_workspace.$ref\n",
      "definitions.step.anyOf.properties.restore_cache.$ref\n",
      "definitions.step.anyOf.properties.run.$ref\n",
      "definitions.step.anyOf.properties.save_cache.$ref\n",
      "definitions.step.anyOf.properties.setup_remote_docker.$ref\n",
      "definitions.step.anyOf.properties.store_artifacts.$ref\n",
      "definitions.step.anyOf.properties.store_test_results.$ref\n",
      "definitions.step.anyOf.type\n",
      "properties.commands.$ref\n",
      "properties.executors.$ref\n",
      "properties.jobs.$ref\n",
      "properties.orbs.$ref\n",
      "properties.version.default\n",
      "properties.version.description\n",
      "properties.version.enum\n",
      "properties.workflows.additionalProperties.additionalProperties\n",
      "properties.workflows.additionalProperties.properties.jobs.items.oneOf.additionalProperties.properties.context.default\n",
      "properties.workflows.additionalProperties.properties.jobs.items.oneOf.additionalProperties.properties.context.description\n",
      "properties.workflows.additionalProperties.properties.jobs.items.oneOf.additionalProperties.properties.context.type\n",
      "properties.workflows.additionalProperties.properties.jobs.items.oneOf.additionalProperties.properties.filters.additionalProperties.branches.$ref\n",
      "properties.workflows.additionalProperties.properties.jobs.items.oneOf.additionalProperties.properties.filters.additionalProperties.tags.$ref\n",
      "properties.workflows.additionalProperties.properties.jobs.items.oneOf.additionalProperties.properties.filters.description\n",
      "properties.workflows.additionalProperties.properties.jobs.items.oneOf.additionalProperties.properties.filters.type\n",
      "properties.workflows.additionalProperties.properties.jobs.items.oneOf.additionalProperties.properties.requires.description\n",
      "properties.workflows.additionalProperties.properties.jobs.items.oneOf.additionalProperties.properties.requires.items.type\n",
      "properties.workflows.additionalProperties.properties.jobs.items.oneOf.additionalProperties.properties.requires.type\n",
      "properties.workflows.additionalProperties.properties.jobs.items.oneOf.additionalProperties.properties.type.description\n",
      "properties.workflows.additionalProperties.properties.jobs.items.oneOf.additionalProperties.properties.type.enum\n",
      "properties.workflows.additionalProperties.properties.jobs.items.oneOf.additionalProperties.type\n",
      "properties.workflows.additionalProperties.properties.jobs.items.oneOf.type\n",
      "properties.workflows.additionalProperties.properties.jobs.type\n",
      "properties.workflows.additionalProperties.properties.triggers.description\n",
      "properties.workflows.additionalProperties.properties.triggers.items.additionalProperties\n",
      "properties.workflows.additionalProperties.properties.triggers.items.properties.schedule.description\n",
      "properties.workflows.additionalProperties.properties.triggers.items.properties.schedule.properties.cron.description\n",
      "properties.workflows.additionalProperties.properties.triggers.items.properties.schedule.properties.cron.type\n",
      "properties.workflows.additionalProperties.properties.triggers.items.properties.schedule.properties.filters.additionalProperties\n",
      "properties.workflows.additionalProperties.properties.triggers.items.properties.schedule.properties.filters.description\n",
      "properties.workflows.additionalProperties.properties.triggers.items.properties.schedule.properties.filters.properties.branches.$ref\n",
      "properties.workflows.additionalProperties.properties.triggers.items.properties.schedule.properties.filters.type\n",
      "properties.workflows.additionalProperties.properties.triggers.items.properties.schedule.type\n",
      "properties.workflows.additionalProperties.properties.triggers.items.type\n",
      "properties.workflows.additionalProperties.properties.triggers.type\n",
      "properties.workflows.additionalProperties.type\n",
      "properties.workflows.description\n",
      "properties.workflows.properties.version.description\n",
      "properties.workflows.properties.version.enum\n",
      "properties.workflows.type\n",
      "required\n",
      "title\n",
      "type\n"
     ]
    },
    {
     "data": {
      "text/plain": [
       "fnames: Seq[String] = ArraySeq($schema, definitions.builtinSteps.configuration.add_ssh_keys.additionalProperties, definitions.builtinSteps.configuration.add_ssh_keys.allOf.$ref, definitions.builtinSteps.configuration.add_ssh_keys.properties.fingerprints.description, definitions.builtinSteps.configuration.add_ssh_keys.properties.fingerprints.items.type, definitions.builtinSteps.configuration.add_ssh_keys.properties.fingerprints.type, definitions.builtinSteps.configuration.add_ssh_keys.properties.name.description, definitions.builtinSteps.configuration.add_ssh_keys.properties.name.type, definitions.builtinSteps.configuration.add_ssh_keys.type, definitions.builtinSteps.configuration.attach_workspace.additionalProperties, definitions.builtinSteps.configuration.attach_workspace.allOf.$ref, d..."
      ]
     },
     "execution_count": 31,
     "metadata": {},
     "output_type": "execute_result"
    }
   ],
   "source": [
    "/*fieldNames est invoquée initialement avec un chemin vide*/\n",
    "val fnames = fieldNames(Nil, data.schema)\n",
    "fnames.foreach(println)\n"
   ]
  },
  {
   "cell_type": "markdown",
   "metadata": {},
   "source": [
    "### Fonctions auxiliaires"
   ]
  },
  {
   "cell_type": "code",
   "execution_count": 11,
   "metadata": {},
   "outputs": [
    {
     "data": {
      "text/plain": [
       "suffix: (s: String)String\n"
      ]
     },
     "execution_count": 11,
     "metadata": {},
     "output_type": "execute_result"
    }
   ],
   "source": [
    "def suffix(s:String)= {\n",
    "    // à compléter \n",
    "    val arr=s.split('.')\n",
    "    arr(arr.size-1)\n",
    "}"
   ]
  },
  {
   "cell_type": "code",
   "execution_count": 12,
   "metadata": {},
   "outputs": [
    {
     "data": {
      "text/plain": [
       "res5: String = type\n"
      ]
     },
     "execution_count": 12,
     "metadata": {},
     "output_type": "execute_result"
    }
   ],
   "source": [
    "suffix(\"properties.applinks.properties.details.type\")\n"
   ]
  },
  {
   "cell_type": "code",
   "execution_count": 13,
   "metadata": {},
   "outputs": [
    {
     "data": {
      "text/plain": [
       "lastButTwo: (s: String)String\n"
      ]
     },
     "execution_count": 13,
     "metadata": {},
     "output_type": "execute_result"
    }
   ],
   "source": [
    "/*lastButTwo extrait le n-2 eme attribut d'un chemin en notation pointée*/\n",
    "def lastButTwo(s:String) = {\n",
    "   // à compléter \n",
    "    val arr=s.split('.')\n",
    "    if( arr.size > 2 ){\n",
    "        arr(arr.size-3)\n",
    "      } else {\n",
    "        s\n",
    "      }\n",
    "    \n",
    "}"
   ]
  },
  {
   "cell_type": "code",
   "execution_count": 14,
   "metadata": {},
   "outputs": [
    {
     "data": {
      "text/plain": [
       "res6: String = properties\n"
      ]
     },
     "execution_count": 14,
     "metadata": {},
     "output_type": "execute_result"
    }
   ],
   "source": [
    "lastButTwo(\"properties.applinks.properties.details.type\")"
   ]
  },
  {
   "cell_type": "code",
   "execution_count": 15,
   "metadata": {},
   "outputs": [
    {
     "data": {
      "text/plain": [
       "removeTwoLasts: (s: String)String\n"
      ]
     },
     "execution_count": 15,
     "metadata": {},
     "output_type": "execute_result"
    }
   ],
   "source": [
    "/*removeTwoLasts retire les 2 derniers attributs d'un chemin en notation pointée*/\n",
    "def removeTwoLasts(s:String)= {\n",
    "   // à compléter \n",
    "    val arr=s.split('.')\n",
    "    if( arr.size > 2 ){\n",
    "         arr.slice(0, arr.size-2).reduce((a,b)=>a+\".\"+b)\n",
    "      } else {\n",
    "         s\n",
    "      }\n",
    "    \n",
    "\n",
    "}"
   ]
  },
  {
   "cell_type": "code",
   "execution_count": 141,
   "metadata": {},
   "outputs": [
    {
     "data": {
      "text/plain": [
       "res109: String = properties.applinks.properties\n"
      ]
     },
     "execution_count": 141,
     "metadata": {},
     "output_type": "execute_result"
    }
   ],
   "source": [
    "removeTwoLasts(\"properties.applinks.properties.details.type\")\n",
    "\n"
   ]
  },
  {
   "cell_type": "code",
   "execution_count": 12,
   "metadata": {},
   "outputs": [
    {
     "data": {
      "text/plain": [
       "res5: String = properties\n"
      ]
     },
     "execution_count": 12,
     "metadata": {},
     "output_type": "execute_result"
    }
   ],
   "source": [
    "removeTwoLasts(\"properties\")\n"
   ]
  },
  {
   "cell_type": "markdown",
   "metadata": {},
   "source": [
    "### Extraire le nombre d'objets"
   ]
  },
  {
   "cell_type": "code",
   "execution_count": 33,
   "metadata": {},
   "outputs": [
    {
     "data": {
      "text/plain": [
       "newDf: org.apache.spark.sql.DataFrame = [$schema: string, definitions: struct<builtinSteps: struct<configuration: struct<add_ssh_keys: struct<additionalProperties: boolean, allOf: array<struct<$ref:string>> ... 2 more fields>, attach_workspace: struct<additionalProperties: boolean, allOf: array<struct<$ref:string>> ... 3 more fields> ... 9 more fields>, documentation: struct<add_ssh_keys: struct<description: string>, attach_workspace: struct<description: string> ... 9 more fields>>, commands: struct<additionalProperties: struct<description: string, properties: struct<description: struct<description: string, type: string>, parameters: struct<description: string, patternProperties: struct<^[a-z][a-z0-9_-]+$: struct<oneOf: array<struct<description:string,properties:struct<default:struct<it..."
      ]
     },
     "execution_count": 33,
     "metadata": {},
     "output_type": "execute_result"
    }
   ],
   "source": [
    "val newDf = data.withColumn(\"station_id_str\", data.col(\"definitions.builtinSteps.configuration.restore_cache.oneOf.properties.key.type\").cast(StringType))"
   ]
  },
  {
   "cell_type": "code",
   "execution_count": 49,
   "metadata": {},
   "outputs": [
    {
     "data": {
      "text/plain": [
       "res27: org.apache.spark.sql.DataFrame = [station_id_str: string]\n"
      ]
     },
     "execution_count": 49,
     "metadata": {},
     "output_type": "execute_result"
    }
   ],
   "source": [
    "newDf.select(\"station_id_str\")"
   ]
  },
  {
   "cell_type": "code",
   "execution_count": 53,
   "metadata": {},
   "outputs": [
    {
     "data": {
      "text/plain": [
       "x: String = station_id_str\r\n",
       "res29: Long = 0\n"
      ]
     },
     "execution_count": 53,
     "metadata": {},
     "output_type": "execute_result"
    }
   ],
   "source": [
    "val x=\"station_id_str\"\n",
    "newDf.filter(x+\"=='object'\").count"
   ]
  },
  {
   "cell_type": "code",
   "execution_count": 32,
   "metadata": {},
   "outputs": [
    {
     "ename": "org.apache.spark.sql.AnalysisException",
     "evalue": " cannot resolve '(`definitions`.`builtinSteps`.`configuration`.`restore_cache`.`oneOf`.`properties`.`key`.`type` = 'object')' due to data type mismatch: differing types in '(`definitions`.`builtinSteps`.`configuration`.`restore_cache`.`oneOf`.`properties`.`key`.`type` = 'object')' (array<string> and string).; line 1 pos 0;\r",
     "output_type": "error",
     "traceback": [
      "org.apache.spark.sql.AnalysisException: cannot resolve '(`definitions`.`builtinSteps`.`configuration`.`restore_cache`.`oneOf`.`properties`.`key`.`type` = 'object')' due to data type mismatch: differing types in '(`definitions`.`builtinSteps`.`configuration`.`restore_cache`.`oneOf`.`properties`.`key`.`type` = 'object')' (array<string> and string).; line 1 pos 0;\r",
      "'Filter (definitions#252.builtinSteps.configuration.restore_cache.oneOf.properties.key.type = object)\r",
      "+- Relation[$schema#251,definitions#252,properties#253,required#254,title#255,type#256] json\r",
      "\r",
      "  at org.apache.spark.sql.catalyst.analysis.package$AnalysisErrorAt.failAnalysis(package.scala:42)\r",
      "  at org.apache.spark.sql.catalyst.analysis.CheckAnalysis$$anonfun$checkAnalysis$1$$anonfun$apply$3.applyOrElse(CheckAnalysis.scala:116)\r",
      "  at org.apache.spark.sql.catalyst.analysis.CheckAnalysis$$anonfun$checkAnalysis$1$$anonfun$apply$3.applyOrElse(CheckAnalysis.scala:108)\r",
      "  at org.apache.spark.sql.catalyst.trees.TreeNode$$anonfun$transformUp$1.apply(TreeNode.scala:281)\r",
      "  at org.apache.spark.sql.catalyst.trees.TreeNode$$anonfun$transformUp$1.apply(TreeNode.scala:281)\r",
      "  at org.apache.spark.sql.catalyst.trees.CurrentOrigin$.withOrigin(TreeNode.scala:70)\r",
      "  at org.apache.spark.sql.catalyst.trees.TreeNode.transformUp(TreeNode.scala:280)\r",
      "  at org.apache.spark.sql.catalyst.plans.QueryPlan$$anonfun$transformExpressionsUp$1.apply(QueryPlan.scala:93)\r",
      "  at org.apache.spark.sql.catalyst.plans.QueryPlan$$anonfun$transformExpressionsUp$1.apply(QueryPlan.scala:93)\r",
      "  at org.apache.spark.sql.catalyst.plans.QueryPlan$$anonfun$1.apply(QueryPlan.scala:105)\r",
      "  at org.apache.spark.sql.catalyst.plans.QueryPlan$$anonfun$1.apply(QueryPlan.scala:105)\r",
      "  at org.apache.spark.sql.catalyst.trees.CurrentOrigin$.withOrigin(TreeNode.scala:70)\r",
      "  at org.apache.spark.sql.catalyst.plans.QueryPlan.transformExpression$1(QueryPlan.scala:104)\r",
      "  at org.apache.spark.sql.catalyst.plans.QueryPlan.org$apache$spark$sql$catalyst$plans$QueryPlan$$recursiveTransform$1(QueryPlan.scala:116)\r",
      "  at org.apache.spark.sql.catalyst.plans.QueryPlan$$anonfun$2.apply(QueryPlan.scala:126)\r",
      "  at org.apache.spark.sql.catalyst.trees.TreeNode.mapProductIterator(TreeNode.scala:187)\r",
      "  at org.apache.spark.sql.catalyst.plans.QueryPlan.mapExpressions(QueryPlan.scala:126)\r",
      "  at org.apache.spark.sql.catalyst.plans.QueryPlan.transformExpressionsUp(QueryPlan.scala:93)\r",
      "  at org.apache.spark.sql.catalyst.analysis.CheckAnalysis$$anonfun$checkAnalysis$1.apply(CheckAnalysis.scala:108)\r",
      "  at org.apache.spark.sql.catalyst.analysis.CheckAnalysis$$anonfun$checkAnalysis$1.apply(CheckAnalysis.scala:86)\r",
      "  at org.apache.spark.sql.catalyst.trees.TreeNode.foreachUp(TreeNode.scala:127)\r",
      "  at org.apache.spark.sql.catalyst.analysis.CheckAnalysis$class.checkAnalysis(CheckAnalysis.scala:86)\r",
      "  at org.apache.spark.sql.catalyst.analysis.Analyzer.checkAnalysis(Analyzer.scala:95)\r",
      "  at org.apache.spark.sql.catalyst.analysis.Analyzer$$anonfun$executeAndCheck$1.apply(Analyzer.scala:108)\r",
      "  at org.apache.spark.sql.catalyst.analysis.Analyzer$$anonfun$executeAndCheck$1.apply(Analyzer.scala:105)\r",
      "  at org.apache.spark.sql.catalyst.plans.logical.AnalysisHelper$.markInAnalyzer(AnalysisHelper.scala:201)\r",
      "  at org.apache.spark.sql.catalyst.analysis.Analyzer.executeAndCheck(Analyzer.scala:105)\r",
      "  at org.apache.spark.sql.execution.QueryExecution.analyzed$lzycompute(QueryExecution.scala:57)\r",
      "  at org.apache.spark.sql.execution.QueryExecution.analyzed(QueryExecution.scala:55)\r",
      "  at org.apache.spark.sql.execution.QueryExecution.assertAnalyzed(QueryExecution.scala:47)\r",
      "  at org.apache.spark.sql.Dataset.<init>(Dataset.scala:176)\r",
      "  at org.apache.spark.sql.Dataset.<init>(Dataset.scala:182)\r",
      "  at org.apache.spark.sql.Dataset$.apply(Dataset.scala:64)\r",
      "  at org.apache.spark.sql.Dataset.withTypedPlan(Dataset.scala:3417)\r",
      "  at org.apache.spark.sql.Dataset.filter(Dataset.scala:1490)\r",
      "  at org.apache.spark.sql.Dataset.filter(Dataset.scala:1504)\r",
      "  at $anonfun$2.apply(<console>:52)\r",
      "  at $anonfun$2.apply(<console>:52)\r",
      "  at scala.collection.TraversableLike$$anonfun$filterImpl$1.apply(TraversableLike.scala:248)\r",
      "  at scala.collection.mutable.ArraySeq.foreach(ArraySeq.scala:74)\r",
      "  at scala.collection.TraversableLike$class.filterImpl(TraversableLike.scala:247)\r",
      "  at scala.collection.TraversableLike$class.filter(TraversableLike.scala:259)\r",
      "  at scala.collection.AbstractTraversable.filter(Traversable.scala:104)\r",
      "  ... 48 elided",
      ""
     ]
    }
   ],
   "source": [
    "val typePaths = fnames.filter(suffix(_)==\"type\")\n",
    "val djk=typePaths.filter(x=>data.filter(x+\"=='object'\").count==1)\n",
    "// à compléter\n",
    "val nbObj=djk.size"
   ]
  },
  {
   "cell_type": "markdown",
   "metadata": {},
   "source": [
    "### Extraire les required fields pour les objets"
   ]
  },
  {
   "cell_type": "code",
   "execution_count": 25,
   "metadata": {},
   "outputs": [
    {
     "data": {
      "text/plain": [
       "reqPaths: Seq[String] = ArraySeq()\r\n",
       "countReq: Array[Int] = Array()\r\n",
       "requiredDist: Array[Int] = Array()\n"
      ]
     },
     "execution_count": 25,
     "metadata": {},
     "output_type": "execute_result"
    }
   ],
   "source": [
    "val reqPaths = fnames.filter(suffix(_)==\"required\")\n",
    "val countReq =reqPaths.map(x=>data.select(x).as[Seq[String]].rdd.first.size).toArray\n",
    "val requiredDist=countReq\n",
    "// à compléter "
   ]
  },
  {
   "cell_type": "markdown",
   "metadata": {},
   "source": [
    "### Extraire le nombre de fields pour les objets"
   ]
  },
  {
   "cell_type": "code",
   "execution_count": 26,
   "metadata": {},
   "outputs": [
    {
     "data": {
      "text/plain": [
       "propPaths: Seq[String] = ArraySeq(definitions.cdn.properties, definitions.pwa.properties, definitions.webOptimizer.properties)\r\n",
       "fieldDist: Seq[Int] = ArraySeq(2, 6, 2)\n"
      ]
     },
     "execution_count": 26,
     "metadata": {},
     "output_type": "execute_result"
    }
   ],
   "source": [
    "val propPaths = fnames.filter(lastButTwo(_)==\"properties\").map(x=>removeTwoLasts(x)).distinct\n",
    "//propPaths.foreach(println)\n",
    "val fieldDist = propPaths.map(x=>data.select(col(x+\".*\")).columns.size) "
   ]
  },
  {
   "cell_type": "code",
   "execution_count": 27,
   "metadata": {},
   "outputs": [
    {
     "data": {
      "text/plain": [
       "fieldDist: Seq[Int] = ArraySeq(2, 6, 2)\n"
      ]
     },
     "execution_count": 27,
     "metadata": {},
     "output_type": "execute_result"
    }
   ],
   "source": [
    "\n",
    "val fieldDist=propPaths.map(\n",
    "    x=>fnames.filter(\n",
    "        y=>y.startsWith(x+\".\")).map(z=>z.split('.')(x.split('.').size)).distinct.size\n",
    "                                   )"
   ]
  }
 ],
 "metadata": {
  "kernelspec": {
   "display_name": "spylon-kernel",
   "language": "scala",
   "name": "spylon-kernel"
  },
  "language_info": {
   "codemirror_mode": "text/x-scala",
   "file_extension": ".scala",
   "help_links": [
    {
     "text": "MetaKernel Magics",
     "url": "https://metakernel.readthedocs.io/en/latest/source/README.html"
    }
   ],
   "mimetype": "text/x-scala",
   "name": "scala",
   "pygments_lexer": "scala",
   "version": "0.4.1"
  }
 },
 "nbformat": 4,
 "nbformat_minor": 2
}
