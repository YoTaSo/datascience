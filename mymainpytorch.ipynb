{
  "nbformat": 4,
  "nbformat_minor": 0,
  "metadata": {
    "colab": {
      "name": "mymainpytorch.ipynb",
      "provenance": [],
      "collapsed_sections": [],
      "include_colab_link": true
    },
    "kernelspec": {
      "name": "python3",
      "display_name": "Python 3"
    },
    "accelerator": "GPU"
  },
  "cells": [
    {
      "cell_type": "markdown",
      "metadata": {
        "id": "view-in-github",
        "colab_type": "text"
      },
      "source": [
        "<a href=\"https://colab.research.google.com/github/YoTaSo/datascience/blob/deeplearning/mymainpytorch.ipynb\" target=\"_parent\"><img src=\"https://colab.research.google.com/assets/colab-badge.svg\" alt=\"Open In Colab\"/></a>"
      ]
    },
    {
      "cell_type": "code",
      "metadata": {
        "id": "hLEgbOMUDikT"
      },
      "source": [
        "import numpy as np\n",
        "import pandas as pd\n",
        "import torch\n",
        "from torch.autograd import Function\n",
        "from torch.autograd import gradcheck\n",
        "from torch.utils.tensorboard import SummaryWriter"
      ],
      "execution_count": null,
      "outputs": []
    },
    {
      "cell_type": "code",
      "metadata": {
        "id": "ly64dyCaL0s0"
      },
      "source": [
        "url='https://archive.ics.uci.edu/ml/machine-learning-databases/housing/housing.data'\n",
        "df1 = pd.read_csv(url,delim_whitespace=True,header=None)\n",
        "xMat=df1.iloc[:,0:13]\n",
        "yRes=df1.iloc[:,13]"
      ],
      "execution_count": null,
      "outputs": []
    },
    {
      "cell_type": "code",
      "metadata": {
        "id": "JhCsxEEPWPlL"
      },
      "source": [
        "augX=[]\n",
        "for i in range(xMat.shape[0]):\n",
        "  b=np.concatenate([[1],xMat.values[i]])\n",
        "  augX.append(b)\n",
        "augX = np.asarray(augX)"
      ],
      "execution_count": null,
      "outputs": []
    },
    {
      "cell_type": "code",
      "metadata": {
        "id": "mIXCOhltdmnJ"
      },
      "source": [
        "#use GPU\n",
        "device = 'cuda' if torch.cuda.is_available() else 'cpu'"
      ],
      "execution_count": null,
      "outputs": []
    },
    {
      "cell_type": "code",
      "metadata": {
        "id": "ot-GdIMveFvf"
      },
      "source": [
        "x_train_tensor = torch.from_numpy(augX).float().to(device)\n",
        "y_train_tensor = torch.from_numpy(yRes.values).float().to(device)"
      ],
      "execution_count": null,
      "outputs": []
    },
    {
      "cell_type": "code",
      "metadata": {
        "id": "ssrJDxUlY_PA"
      },
      "source": [
        "y_train_tensor = y_train_tensor.view(-1,1)"
      ],
      "execution_count": null,
      "outputs": []
    },
    {
      "cell_type": "code",
      "metadata": {
        "id": "pIiWIXSyAoLk"
      },
      "source": [
        "w = torch.randn(1,14,requires_grad=True,dtype=torch.float,device=device)"
      ],
      "execution_count": null,
      "outputs": []
    },
    {
      "cell_type": "code",
      "metadata": {
        "id": "hU8MDv70K3mM"
      },
      "source": [
        "#to check every thing is well defined\n",
        "#x_train_tensor.mm(w)\n",
        "torch.mm(x_train_tensor,w.t())"
      ],
      "execution_count": null,
      "outputs": []
    },
    {
      "cell_type": "code",
      "metadata": {
        "id": "ZNgvwrxiI9fb"
      },
      "source": [
        "class Context:\n",
        "    \"\"\"Very simplified context object\"\"\"\n",
        "    def __init__(self):\n",
        "        self._saved_tensors = ()\n",
        "    def save_for_backward(self, *args):\n",
        "        self._saved_tensors = args\n",
        "    @property\n",
        "    def saved_tensors(self):\n",
        "        return self._saved_tensors"
      ],
      "execution_count": null,
      "outputs": []
    },
    {
      "cell_type": "code",
      "metadata": {
        "id": "aXbq7pxeV3c1"
      },
      "source": [
        "\n",
        "\n",
        "class MaFonction(Function):\n",
        "  @staticmethod\n",
        "  def forward(ctx, x,w):\n",
        "    ctx.save_for_backward(x,w)\n",
        "    return x.mm(w.t())\n",
        "    \n",
        "  @staticmethod\n",
        "  def backward(ctx, grad_output):\n",
        "    x,w = ctx.saved_tensors\n",
        "    grad_x = grad_w = None\n",
        "    grad_x = grad_output.mm(w)\n",
        "    grad_w = grad_output.t().mm(x)\n",
        "    #grad_b = grad_output.sum(0).squeeze(0)\n",
        "\n",
        "    return grad_x, grad_w"
      ],
      "execution_count": null,
      "outputs": []
    },
    {
      "cell_type": "code",
      "metadata": {
        "id": "zZ9o3l7xCi4d"
      },
      "source": [
        "class MSE(Function):\n",
        "    @staticmethod\n",
        "    def forward(ctx, input, response):\n",
        "        ctx.save_for_backward(input, response)\n",
        "        output = (input - response)**2\n",
        "        return output\n",
        "\n",
        "    @staticmethod\n",
        "    def backward(ctx,grad_output):\n",
        "        input, response = ctx.saved_tensors\n",
        "        g_inp = grad_output*(2*(input-response))\n",
        "        #g_inp = 2*(input-response)\n",
        "        #g_res = 2*(response-input)\n",
        "        g_res = grad_output*(2*(response-input))\n",
        "        return g_inp, g_res\n"
      ],
      "execution_count": null,
      "outputs": []
    },
    {
      "cell_type": "code",
      "metadata": {
        "id": "HcVosJ55Ip4x"
      },
      "source": [
        "mafonction = MaFonction()\n",
        "mse = MSE()\n",
        "ctx = Context()\n",
        "ctx_mse = Context()\n",
        "output = mafonction.forward(ctx,x_train_tensor,w)\n",
        "#mafonction_grad = mafonction.backward(ctx,1)\n",
        "#print(output)"
      ],
      "execution_count": null,
      "outputs": []
    },
    {
      "cell_type": "code",
      "metadata": {
        "id": "-sOttudXRyzf",
        "colab": {
          "base_uri": "https://localhost:8080/",
          "height": 35
        },
        "outputId": "7a9a9f61-66a6-47d0-f2e3-48fd30d8d70e"
      },
      "source": [
        "\n",
        "mafonction_check = MaFonction.apply\n",
        "x = torch.randn(506,14,requires_grad=True,dtype=torch.float64,device=device)\n",
        "w = torch.randn(1,14,requires_grad=True,dtype=torch.float64,device=device)\n",
        "#b = torch.randn(1,requires_grad=True,dtype=torch.float64,device=device)\n",
        "torch.autograd.gradcheck(mafonction_check,(x,w))\n",
        "#torch.autograd.gradcheck()"
      ],
      "execution_count": null,
      "outputs": [
        {
          "output_type": "execute_result",
          "data": {
            "text/plain": [
              "True"
            ]
          },
          "metadata": {
            "tags": []
          },
          "execution_count": 85
        }
      ]
    },
    {
      "cell_type": "code",
      "metadata": {
        "id": "kcqZsSMznYmy",
        "colab": {
          "base_uri": "https://localhost:8080/",
          "height": 35
        },
        "outputId": "71851bb2-76c0-49cf-dd98-39f46e8eedfc"
      },
      "source": [
        "mafonction_check = MSE.apply\n",
        "\n",
        "x = torch.randn(506,14,requires_grad=True,dtype=torch.float64 ,device=device)\n",
        "w = torch.randn(1,14,requires_grad=True,dtype=torch.float64 ,device=device)\n",
        "\n",
        "#\n",
        "\n",
        "y = torch.randn(506,1,requires_grad=True,dtype=torch.float64 ,device=device)\n",
        "yhat=torch.randn(506,1,requires_grad=True,dtype=torch.float64 ,device=device)\n",
        "#yhat = mafonction.forward(ctx,x_train_tensor,w)\n",
        "#b = torch.randn(1,requires_grad=True,dtype=torch.float64,device=device)\n",
        "torch.autograd.gradcheck(mafonction_check,(y, yhat))\n",
        "\n",
        "#outForwTest=mse.forward(ctx_mse, output, y_train_tensor)\n",
        "#y_grad, _ =mse.backward(ctx_mse, torch.ones(506, 1, requires_grad=True, dtype=torch.float ,device=device))\n",
        "#_, grad_w= mafonction.backward(ctx, y_grad)"
      ],
      "execution_count": null,
      "outputs": [
        {
          "output_type": "execute_result",
          "data": {
            "text/plain": [
              "True"
            ]
          },
          "metadata": {
            "tags": []
          },
          "execution_count": 100
        }
      ]
    },
    {
      "cell_type": "code",
      "metadata": {
        "id": "y1Lhf-tOOpWD",
        "colab": {
          "base_uri": "https://localhost:8080/",
          "height": 35
        },
        "outputId": "e33c00a5-2f63-4f2a-94ec-2f3f261a6edd"
      },
      "source": [
        "y_train_tensor.size()"
      ],
      "execution_count": null,
      "outputs": [
        {
          "output_type": "execute_result",
          "data": {
            "text/plain": [
              "torch.Size([506, 1])"
            ]
          },
          "metadata": {
            "tags": []
          },
          "execution_count": 89
        }
      ]
    },
    {
      "cell_type": "code",
      "metadata": {
        "id": "e3NHnejgOTtk",
        "colab": {
          "base_uri": "https://localhost:8080/",
          "height": 35
        },
        "outputId": "50716596-4d44-4c09-b1d9-083eaa190724"
      },
      "source": [
        "torch.mean(outForwTest).item()"
      ],
      "execution_count": null,
      "outputs": [
        {
          "output_type": "execute_result",
          "data": {
            "text/plain": [
              "70211.7890625"
            ]
          },
          "metadata": {
            "tags": []
          },
          "execution_count": 55
        }
      ]
    },
    {
      "cell_type": "code",
      "metadata": {
        "id": "tT4xKHezTaEm"
      },
      "source": [
        "#batch learning\n",
        "torch.random.manual_seed(3360)\n",
        "w = torch.randn(1,14,requires_grad=True,dtype=torch.float,device=device)\n",
        "learning_rate = 1e-6\n",
        "for t in range(10000):\n",
        "  y_pred = mafonction.forward(ctx,x_train_tensor,w)\n",
        "  loss = (y_pred - y_train_tensor).pow(2).mean()\n",
        "  if t%50==0:\n",
        "    print(t, loss.item())\n",
        "\n",
        "  loss.backward()\n",
        "  \n",
        "  with torch.no_grad():\n",
        "    w -= learning_rate * w.grad\n",
        "\n",
        "  w.grad.zero_()"
      ],
      "execution_count": null,
      "outputs": []
    },
    {
      "cell_type": "code",
      "metadata": {
        "id": "bCGpjhungTeS"
      },
      "source": [
        "#batch learning\n",
        "torch.random.manual_seed(3360)\n",
        "w = torch.randn(1,14,requires_grad=True,dtype=torch.float,device=device)\n",
        "learning_rate = 1e-9\n",
        "for t in range(10000):\n",
        "  y_pred = mafonction.forward(ctx,x_train_tensor,w)\n",
        "  loss = mse.forward(ctx_mse, y_pred, y_train_tensor)\n",
        "  \n",
        "  if t%50==0:\n",
        "    meanLoss=torch.mean(loss).item()\n",
        "    print(t, meanLoss)\n",
        "  y_grad, _ = mse.backward(ctx_mse,torch.ones(506, 1, requires_grad=True, dtype=torch.float ,device=device))\n",
        "  _, grad_w= mafonction.backward(ctx, y_grad)\n",
        "\n",
        "  w = w - learning_rate*grad_w"
      ],
      "execution_count": null,
      "outputs": []
    },
    {
      "cell_type": "code",
      "metadata": {
        "id": "DGpGKa1meS39"
      },
      "source": [
        "#Stochastic gradient decent\n",
        "learning_rate = 1e-6\n",
        "for t in range(500):\n",
        "\n",
        "  mylinear = MaFonction.apply\n",
        "  #y_pred = mafonction.forward(ctx,x_train_tensor,w)\n",
        "  #randInd=np.random.randint(x_train_tensor.size()[0])\n",
        "  randInd=torch.randint(x_train_tensor.size()[0],size=(1,))\n",
        "\n",
        "  sampled_tensor, sampled_y_train=x_train_tensor[randInd],y_train_tensor[randInd]\n",
        "  sampled_tensor = sampled_tensor.view(-1,1)\n",
        "  sampled_tensor=sampled_tensor.t()\n",
        "\n",
        "  y_pred=mylinear(sampled_tensor,w)\n",
        "  \n",
        "  loss = (y_pred - y_train_tensor).pow(2).mean()\n",
        "  print(t, loss.item())\n",
        "\n",
        "  loss.backward()\n",
        "\n",
        "  with torch.no_grad():\n",
        "    w -= learning_rate * w.grad\n",
        "\n",
        "    w.grad.zero_()"
      ],
      "execution_count": null,
      "outputs": []
    },
    {
      "cell_type": "code",
      "metadata": {
        "id": "5VuG1_VE1D7q"
      },
      "source": [
        "batchSize = 50 # or whatever\n",
        "\n",
        "for t in range(500):\n",
        "\n",
        "  mylinear = MaFonction.apply\n",
        "  #y_pred = mafonction.forward(ctx,x_train_tensor,w)\n",
        "  trani_tes_len=x_train_tensor.size()[0]\n",
        "  perms = torch.randperm(trani_tes_len)\n",
        "  for i in range(0,trani_tes_len, batchSize):\n",
        "\n",
        "    indices = perms[i:i+batchSize]\n",
        "    batch_x_train, batch_y_train = x_train_tensor[indices], y_train_tensor[indices]\n",
        "    #sampled_tensor = sampled_tensor.view(-1,1)\n",
        "    #sampled_tensor=sampled_tensor.t()\n",
        "    y_pred_batch=mylinear(batch_x_train,w)\n",
        "\n",
        "    loss = (y_pred_batch - batch_y_train).pow(2).mean()\n",
        "    print(t,i, loss.item())\n",
        "    loss.backward()\n",
        "\n",
        "    with torch.no_grad():\n",
        "      w -= learning_rate * w.grad\n",
        "      w.grad.zero_()\n"
      ],
      "execution_count": null,
      "outputs": []
    },
    {
      "cell_type": "code",
      "metadata": {
        "id": "e6z17t8VEcHG"
      },
      "source": [
        "train_tes_len=x_train_tensor.size()[0]\n",
        "perms = torch.randperm(train_tes_len)\n",
        "breakInd=int(np.floor(train_tes_len*.7))# 70 30 split"
      ],
      "execution_count": null,
      "outputs": []
    },
    {
      "cell_type": "code",
      "metadata": {
        "id": "OwcCEEJXI6If"
      },
      "source": [
        "train_indx=perms[:breakInd]\n",
        "test_indx=perms[breakInd:]"
      ],
      "execution_count": null,
      "outputs": []
    },
    {
      "cell_type": "code",
      "metadata": {
        "id": "H94T5zEjJeRb"
      },
      "source": [
        "x_train, y_train = x_train_tensor[train_indx], y_train_tensor[train_indx]\n",
        "x_test, y_test = x_train_tensor[test_indx], y_train_tensor[test_indx]"
      ],
      "execution_count": null,
      "outputs": []
    },
    {
      "cell_type": "code",
      "metadata": {
        "id": "PZggUaqBKwOv"
      },
      "source": [
        "\n",
        "\n",
        "writer = SummaryWriter()\n",
        "w = torch.randn(1,14,requires_grad=True,dtype=torch.float,device=device)\n",
        "learning_rate = 1e-6\n",
        "for t in range(5000):\n",
        "  mylinear = MaFonction.apply\n",
        "  #y_pred = mafonction.forward(ctx,x_train_tensor,w)\n",
        "  y_pred_train=mylinear(x_train,w)\n",
        "  loss = (y_pred_train - y_train).pow(2).mean()\n",
        "  #print(t, loss.item())\n",
        "  y_pred_test=mylinear(x_test,w)\n",
        "  lossTest = (y_pred_test - y_test).pow(2).mean()\n",
        "\n",
        "  #writer.add_scalar('Loss/trainTest', loss.item(), t)\n",
        "  #writer.add_scalar('Loss/trainTest', lossTest.item(), t)\n",
        "  \n",
        "  writer.add_scalars('Loss/compare2', {'Train':loss.item(),'Test':lossTest.item()}, t)\n",
        "\n",
        "  loss.backward()\n",
        "\n",
        "  with torch.no_grad():\n",
        "    w -= learning_rate * w.grad\n",
        "\n",
        "    w.grad.zero_()"
      ],
      "execution_count": null,
      "outputs": []
    },
    {
      "cell_type": "code",
      "metadata": {
        "id": "1PCDY2ruMC1f"
      },
      "source": [
        "%load_ext tensorboard\n",
        "%tensorboard --logdir=runs"
      ],
      "execution_count": null,
      "outputs": []
    }
  ]
}