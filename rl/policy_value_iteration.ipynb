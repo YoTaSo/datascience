{
  "nbformat": 4,
  "nbformat_minor": 0,
  "metadata": {
    "colab": {
      "name": "RLD_TME2.ipynb",
      "provenance": [],
      "collapsed_sections": [],
      "authorship_tag": "ABX9TyP0A7xJ92gZLah3DweE722y",
      "include_colab_link": true
    },
    "kernelspec": {
      "name": "python3",
      "display_name": "Python 3"
    }
  },
  "cells": [
    {
      "cell_type": "markdown",
      "metadata": {
        "id": "view-in-github",
        "colab_type": "text"
      },
      "source": [
        "<a href=\"https://colab.research.google.com/github/YoTaSo/datascience/blob/main/rl/policy_value_iteration.ipynb\" target=\"_parent\"><img src=\"https://colab.research.google.com/assets/colab-badge.svg\" alt=\"Open In Colab\"/></a>"
      ]
    },
    {
      "cell_type": "code",
      "metadata": {
        "id": "GWyDGX6b0SeK"
      },
      "source": [
        "import os\r\n",
        "from google.colab import drive\r\n",
        "import matplotlib\r\n",
        "\r\n",
        "#matplotlib.use(\"TkAgg\")\r\n",
        "import gym\r\n",
        "import gridworld\r\n",
        "from gym import wrappers, logger\r\n",
        "import numpy as np\r\n",
        "import copy"
      ],
      "execution_count": null,
      "outputs": []
    },
    {
      "cell_type": "code",
      "metadata": {
        "id": "rGDEQ2nCYbJj"
      },
      "source": [
        "\n",
        "drive.mount('/content/gdrive')\n",
        "root_path = 'gdrive/My Drive/RLD/TME2'\n",
        "os.chdir(root_path)"
      ],
      "execution_count": null,
      "outputs": []
    },
    {
      "cell_type": "code",
      "metadata": {
        "id": "PfSaN6zKZX9A"
      },
      "source": [
        "#policy iteration class\n",
        "class PolicyIterAgent(object):\n",
        "\n",
        "  def __init__ (self,env,gamma=1,eps=0.0001):\n",
        "      self.action_space = env.action_space\n",
        "      self.gamma=gamma\n",
        "      self.eps=eps\n",
        "      self.statedic, self.mdp = env.getMDP()\n",
        "      self.policyIndx=0\n",
        "      #initialize policy\n",
        "      #self.winstate=list(env.states.keys())[5]\n",
        "      #self.losestate=list(env.states.keys())[1]\n",
        "      #terminals=list(set(env.states.keys()).difference(set(self.mdp.keys())))\n",
        "      self.policy={}\n",
        "      for s in self.mdp:\n",
        "        self.policy[s]=self.action_space.sample()\n",
        "\n",
        "  def policyEval(self,pol):\n",
        "\n",
        "    #initilize\n",
        "    V0={}\n",
        "    V1={}\n",
        "    for s in self.statedic:\n",
        "      '''\n",
        "      if s==self.winstate:\n",
        "        V0[s]=1\n",
        "        V1[s]=1\n",
        "      elif s==self.losestate:\n",
        "        V0[s]=-1\n",
        "        V1[s]=-1\n",
        "      else:\n",
        "      '''\n",
        "      V0[s]=0\n",
        "      V1[s]=0\n",
        "\n",
        "\n",
        "    while True:\n",
        "      for s1 in self.mdp:\n",
        "        V1[s1]=np.sum([t[0]*(t[2]+self.gamma*V0[s1]) for t in self.mdp[s1][pol[s1]]])\n",
        "      if np.linalg.norm(np.subtract(list(V0.values()),list(V1.values())))<self.eps:\n",
        "        break\n",
        "      V0=V1\n",
        "    return V1\n",
        "\n",
        "  def nextPolicy(self):\n",
        "    self.policyIndx+=1\n",
        "    for s1 in self.mdp:\n",
        "      \n",
        "      Vpi=self.policyEval(self.policy)\n",
        "      ll=[]\n",
        "      for a in range(self.action_space.n):\n",
        "        ll.append(np.sum([t[0]*(t[2]+self.gamma*Vpi[t[1]]) for t in self.mdp[s1][a]]))\n",
        "      #print(ll)\n",
        "      ind=np.arange(0,len(ll))\n",
        "      u=np.random.rand(1)[0]\n",
        "      # a liitle exploration not to find sous optimal\n",
        "      if u>0.1:\n",
        "        self.policy[s1]=np.argmax(ll)\n",
        "      else:\n",
        "        self.policy[s1]=self.action_space.sample()\n",
        "        '''\n",
        "      if sum(ll==max(ll))>1:\n",
        "        ind2=ind[ll==max(ll)]\n",
        "        self.policy[s1]=np.random.choice(ind2,1)[0]\n",
        "      else:\n",
        "        self.policy[s1]=np.argmax(ll)\n",
        "        '''\n",
        "\n",
        "\n",
        "  def act(self, observation):#, reward, done):\n",
        "    obs=str(observation.tolist())\n",
        "    action=self.policy[obs]\n",
        "    return action#self.action_space.sample()"
      ],
      "execution_count": null,
      "outputs": []
    },
    {
      "cell_type": "code",
      "metadata": {
        "id": "94AyKlJZGGHp"
      },
      "source": [
        "#value iteration class\n",
        "class ValueIterAgent(object):\n",
        "\n",
        "  def __init__ (self,env,gamma=1,eps=0.0001):\n",
        "      self.action_space = env.action_space\n",
        "      self.gamma=gamma\n",
        "      self.eps=eps\n",
        "      self.statedic, self.mdp = env.getMDP()\n",
        "      self.valueIndx=0\n",
        "      #initialize policy\n",
        "      #self.winstate=list(env.states.keys())[5]\n",
        "      #self.losestate=list(env.states.keys())[1]\n",
        "      self.isConverged=False\n",
        "      self.policy={}\n",
        "\n",
        "      for s in self.mdp:\n",
        "        self.policy[s]=self.action_space.sample()\n",
        "      \n",
        "      #initilize\n",
        "      self.Val={}\n",
        "      for s in self.statedic:\n",
        "        '''\n",
        "        if s==self.winstate:\n",
        "          self.Val[s]=1\n",
        "        elif s==self.losestate:\n",
        "          self.Val[s]=-1\n",
        "        else:\n",
        "          '''\n",
        "        self.Val[s]=0\n",
        "  def valueEval(self):\n",
        "    for s1 in self.mdp:\n",
        "      ll=[]\n",
        "      for a in range(self.action_space.n):\n",
        "        ll.append(np.sum([t[0]*(t[2]+self.gamma*self.Val[t[1]]) for t in self.mdp[s1][a]]))\n",
        "      self.Val[s1]=max(ll)\n",
        "\n",
        "  def nextPolicy(self):\n",
        "    self.valueIndx+=1\n",
        "    v1=list(self.Val.values())\n",
        "\n",
        "    self.valueEval()\n",
        "    for s1 in self.mdp:\n",
        "      ll=[]\n",
        "      for a in range(self.action_space.n):\n",
        "        ll.append(np.sum([t[0]*(t[2]+self.gamma*self.Val[t[1]]) for t in self.mdp[s1][a]]))\n",
        "      #print(ll)\n",
        "\n",
        "      self.policy[s1]=np.argmax(ll)\n",
        "    \n",
        "    self.isConverged=np.linalg.norm(np.subtract(list(self.Val.values()),v1))<self.eps\n",
        "\n",
        "\n",
        "\n",
        "  def act(self, observation):#, reward, done):\n",
        "    obs=str(observation.tolist())\n",
        "    action=self.policy[obs]\n",
        "    return action#self.action_space.sample()"
      ],
      "execution_count": null,
      "outputs": []
    },
    {
      "cell_type": "code",
      "metadata": {
        "id": "K9zVb7SQZfuC",
        "colab": {
          "base_uri": "https://localhost:8080/",
          "height": 607
        },
        "outputId": "2ae3c9fc-5a94-4ff8-97ce-48a56a657570"
      },
      "source": [
        "env = gym.make(\"gridworld-v0\")\n",
        "env.seed(0)  # Initialise le seed du pseudo-random\n",
        "print(env.action_space)  # Quelles sont les actions possibles\n",
        "print(env.step(1))  # faire action 1 et retourne l'observation, le reward, et un done un booleen (jeu fini ou pas)\n",
        "env.render()  # permet de visualiser la grille du jeu \n",
        "env.render(mode=\"human\") #visualisation sur la console\n",
        "statedic, mdp = env.getMDP()  # recupere le mdp : statedic\n",
        "print(\"Nombre d'etats : \",len(statedic))  # nombre d'etats ,statedic : etat-> numero de l'etat\n",
        "state, transitions = list(mdp.items())[0]\n",
        "print(state)  # un etat du mdp\n",
        "print(transitions)  # dictionnaire des transitions pour l'etat :  {action-> [proba,etat,reward,done]}\n"
      ],
      "execution_count": null,
      "outputs": [
        {
          "output_type": "stream",
          "text": [
            "Discrete(4)\n",
            "(array([[1, 1, 1, 1, 1, 1],\n",
            "       [1, 0, 0, 0, 3, 1],\n",
            "       [1, 0, 1, 0, 5, 1],\n",
            "       [1, 0, 0, 2, 0, 1],\n",
            "       [1, 1, 1, 1, 1, 1],\n",
            "       [1, 1, 1, 1, 1, 1]]), 0, False, {})\n"
          ],
          "name": "stdout"
        },
        {
          "output_type": "display_data",
          "data": {
            "image/png": "[encoded data removed]",
            "text/plain": [
              "<Figure size 432x288 with 1 Axes>"
            ]
          },
          "metadata": {
            "tags": []
          }
        },
        {
          "output_type": "stream",
          "text": [
            "  (West)\n",
            "\u001b[40m \u001b[0m\u001b[40m \u001b[0m\u001b[40m \u001b[0m\u001b[40m \u001b[0m\u001b[40m \u001b[0m\u001b[40m \u001b[0m\n",
            "\u001b[40m \u001b[0m\u001b[47m \u001b[0m\u001b[47m \u001b[0m\u001b[47m \u001b[0m\u001b[42m \u001b[0m\u001b[40m \u001b[0m\n",
            "\u001b[40m \u001b[0m\u001b[47m \u001b[0m\u001b[40m \u001b[0m\u001b[47m \u001b[0m\u001b[41m \u001b[0m\u001b[40m \u001b[0m\n",
            "\u001b[40m \u001b[0m\u001b[47m \u001b[0m\u001b[47m \u001b[0m\u001b[44m \u001b[0m\u001b[47m \u001b[0m\u001b[40m \u001b[0m\n",
            "\u001b[40m \u001b[0m\u001b[40m \u001b[0m\u001b[40m \u001b[0m\u001b[40m \u001b[0m\u001b[40m \u001b[0m\u001b[40m \u001b[0m\n",
            "\u001b[40m \u001b[0m\u001b[40m \u001b[0m\u001b[40m \u001b[0m\u001b[40m \u001b[0m\u001b[40m \u001b[0m\u001b[40m \u001b[0m\n",
            "Nombre d'etats :  11\n",
            "[[1, 1, 1, 1, 1, 1], [1, 0, 0, 0, 3, 1], [1, 0, 1, 0, 5, 1], [1, 0, 0, 0, 2, 1], [1, 1, 1, 1, 1, 1], [1, 1, 1, 1, 1, 1]]\n",
            "{0: [(0.8, '[[1, 1, 1, 1, 1, 1], [1, 0, 0, 0, 3, 1], [1, 0, 1, 0, 5, 1], [1, 0, 0, 0, 2, 1], [1, 1, 1, 1, 1, 1], [1, 1, 1, 1, 1, 1]]', 0, False), (0.1, '[[1, 1, 1, 1, 1, 1], [1, 0, 0, 0, 3, 1], [1, 0, 1, 0, 5, 1], [1, 0, 0, 0, 2, 1], [1, 1, 1, 1, 1, 1], [1, 1, 1, 1, 1, 1]]', 0, False), (0.1, '[[1, 1, 1, 1, 1, 1], [1, 0, 0, 0, 3, 1], [1, 0, 1, 0, 5, 1], [1, 0, 0, 2, 0, 1], [1, 1, 1, 1, 1, 1], [1, 1, 1, 1, 1, 1]]', 0, False)], 1: [(0.8, '[[1, 1, 1, 1, 1, 1], [1, 0, 0, 0, 3, 1], [1, 0, 1, 0, 2, 1], [1, 0, 0, 0, 0, 1], [1, 1, 1, 1, 1, 1], [1, 1, 1, 1, 1, 1]]', -1, True), (0.1, '[[1, 1, 1, 1, 1, 1], [1, 0, 0, 0, 3, 1], [1, 0, 1, 0, 5, 1], [1, 0, 0, 0, 2, 1], [1, 1, 1, 1, 1, 1], [1, 1, 1, 1, 1, 1]]', 0, False), (0.1, '[[1, 1, 1, 1, 1, 1], [1, 0, 0, 0, 3, 1], [1, 0, 1, 0, 5, 1], [1, 0, 0, 2, 0, 1], [1, 1, 1, 1, 1, 1], [1, 1, 1, 1, 1, 1]]', 0, False)], 2: [(0.1, '[[1, 1, 1, 1, 1, 1], [1, 0, 0, 0, 3, 1], [1, 0, 1, 0, 5, 1], [1, 0, 0, 0, 2, 1], [1, 1, 1, 1, 1, 1], [1, 1, 1, 1, 1, 1]]', 0, False), (0.1, '[[1, 1, 1, 1, 1, 1], [1, 0, 0, 0, 3, 1], [1, 0, 1, 0, 2, 1], [1, 0, 0, 0, 0, 1], [1, 1, 1, 1, 1, 1], [1, 1, 1, 1, 1, 1]]', -1, True), (0.8, '[[1, 1, 1, 1, 1, 1], [1, 0, 0, 0, 3, 1], [1, 0, 1, 0, 5, 1], [1, 0, 0, 2, 0, 1], [1, 1, 1, 1, 1, 1], [1, 1, 1, 1, 1, 1]]', 0, False)], 3: [(0.1, '[[1, 1, 1, 1, 1, 1], [1, 0, 0, 0, 3, 1], [1, 0, 1, 0, 5, 1], [1, 0, 0, 0, 2, 1], [1, 1, 1, 1, 1, 1], [1, 1, 1, 1, 1, 1]]', 0, False), (0.1, '[[1, 1, 1, 1, 1, 1], [1, 0, 0, 0, 3, 1], [1, 0, 1, 0, 2, 1], [1, 0, 0, 0, 0, 1], [1, 1, 1, 1, 1, 1], [1, 1, 1, 1, 1, 1]]', -1, True), (0.8, '[[1, 1, 1, 1, 1, 1], [1, 0, 0, 0, 3, 1], [1, 0, 1, 0, 5, 1], [1, 0, 0, 0, 2, 1], [1, 1, 1, 1, 1, 1], [1, 1, 1, 1, 1, 1]]', 0, False)]}\n"
          ],
          "name": "stdout"
        }
      ]
    },
    {
      "cell_type": "code",
      "metadata": {
        "id": "om_yYRfTanAP"
      },
      "source": [
        "# Execution avec un Agent\n",
        "#agent = RandomAgent(env.action_space)\n",
        "\n",
        "# Faire un fichier de log sur plusieurs scenarios\n",
        "outdir = 'gridworld-v0/random-agent-results'\n",
        "envm = wrappers.Monitor(env, directory=outdir, force=True)#, video_callable=False)\n",
        "\n",
        "env.setPlan(\"gridworldPlans/plan2.txt\", {0: -0.001, 3: 1, 4: 1, 5: -1, 6: -1})\n",
        "env.seed()  # Initialiser le pseudo aleatoire\n",
        "episode_count = 1000\n",
        "reward = 0\n",
        "done = False\n",
        "rsum = 0\n",
        "FPS = 0.0001"
      ],
      "execution_count": null,
      "outputs": []
    },
    {
      "cell_type": "code",
      "metadata": {
        "id": "KKuLAhBgYowd"
      },
      "source": [
        "polIterAgent=PolicyIterAgent(env,gamma=.9,eps=1e-6)\n",
        "valIterAgent=ValueIterAgent(env,gamma=0.5,eps=1e-8)"
      ],
      "execution_count": null,
      "outputs": []
    },
    {
      "cell_type": "code",
      "metadata": {
        "id": "f3Oa7GS9IlGd"
      },
      "source": [
        "\n",
        "rsumVec=[]\n",
        "episode_count=100\n",
        "for i in range(episode_count):\n",
        "  obs=env.reset()\n",
        "  #reward=0\n",
        "  #done = False\n",
        "\n",
        "  j = 0\n",
        "  rsum = 0\n",
        "  \n",
        "  while True:\n",
        "    #action = polIterAgent.act(obs)#, reward, done)\n",
        "    action=valIterAgent.act(obs)\n",
        "    obs, reward, done, _ = env.step(action)\n",
        "    rsum += reward\n",
        "    j += 1\n",
        "    if done:\n",
        "      print(\"Episode : \" + str(i) + \" rsum=\" + str(rsum) + \", \" + str(j) + \" actions\")\n",
        "      #polIterAgent.nextPolicy()\n",
        "      rsumVec.append(rsum)\n",
        "      valIterAgent.nextPolicy()\n",
        "      break\n",
        "  \n",
        "  #if valIterAgent.isConverged:\n",
        "  #  break\n",
        "    \n",
        "print(\"done\")\n",
        "env.close()"
      ],
      "execution_count": null,
      "outputs": []
    },
    {
      "cell_type": "code",
      "metadata": {
        "id": "P_BtsYvbEnEl",
        "colab": {
          "base_uri": "https://localhost:8080/",
          "height": 284
        },
        "outputId": "cafd2924-2e68-4ae8-e801-94eb57109b37"
      },
      "source": [
        "plt.plot(np.cumsum(rsumVec))"
      ],
      "execution_count": null,
      "outputs": [
        {
          "output_type": "execute_result",
          "data": {
            "text/plain": [
              "[<matplotlib.lines.Line2D at 0x7ff484e818d0>]"
            ]
          },
          "metadata": {
            "tags": []
          },
          "execution_count": 258
        },
        {
          "output_type": "display_data",
          "data": {
            "image/png": "[encoded data removed]",
            "text/plain": [
              "<Figure size 432x288 with 1 Axes>"
            ]
          },
          "metadata": {
            "tags": []
          }
        }
      ]
    },
    {
      "cell_type": "code",
      "metadata": {
        "id": "fZw8c7nUY2fN"
      },
      "source": [
        "rsumvecpoliter=[]\n",
        "episode_count=1000\n",
        "for i in range(episode_count):\n",
        "  obs=env.reset()\n",
        "  #reward=0\n",
        "  #done = False\n",
        "\n",
        "  j = 0\n",
        "  rsum = 0\n",
        "  \n",
        "  while True:\n",
        "    action = polIterAgent.act(obs)#, reward, done)\n",
        "    #action=valIterAgent.act(obs)\n",
        "    obs, reward, done, _ = env.step(action)\n",
        "    rsum += reward\n",
        "    j += 1\n",
        "    if done:\n",
        "      print(\"Episode : \" + str(i) + \" rsum=\" + str(rsum) + \", \" + str(j) + \" actions\")\n",
        "      polIterAgent.nextPolicy()\n",
        "      rsumvecpoliter.append(rsum)\n",
        "      #valIterAgent.nextPolicy()\n",
        "      break\n",
        "  \n",
        "  #if valIterAgent.isConverged:\n",
        "  #  break\n",
        "    \n",
        "print(\"done\")\n",
        "env.close()"
      ],
      "execution_count": null,
      "outputs": []
    },
    {
      "cell_type": "code",
      "metadata": {
        "id": "LS5v3qNWAe2M",
        "colab": {
          "base_uri": "https://localhost:8080/",
          "height": 298
        },
        "outputId": "9d2cffb6-d268-4df7-96f7-c3bd2832bb96"
      },
      "source": [
        "plt.plot(np.cumsum(rsumvecpoliter))\n",
        "#plt.ylim\n",
        "plt.xlabel(\"Episode\")\n",
        "plt.ylabel(\"Cumulative reward\")"
      ],
      "execution_count": null,
      "outputs": [
        {
          "output_type": "execute_result",
          "data": {
            "text/plain": [
              "Text(0, 0.5, 'Cumulative reward')"
            ]
          },
          "metadata": {
            "tags": []
          },
          "execution_count": 238
        },
        {
          "output_type": "display_data",
          "data": {
            "image/png": "[encoded data removed]",
            "text/plain": [
              "<Figure size 432x288 with 1 Axes>"
            ]
          },
          "metadata": {
            "tags": []
          }
        }
      ]
    }
  ]
}