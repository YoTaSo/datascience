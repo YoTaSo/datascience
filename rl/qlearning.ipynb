{
  "nbformat": 4,
  "nbformat_minor": 0,
  "metadata": {
    "colab": {
      "name": "TME3.ipynb",
      "provenance": [],
      "collapsed_sections": [],
      "authorship_tag": "ABX9TyMzzf7M7wgcXZKnZRPwB8L/",
      "include_colab_link": true
    },
    "kernelspec": {
      "name": "python3",
      "display_name": "Python 3"
    }
  },
  "cells": [
    {
      "cell_type": "markdown",
      "metadata": {
        "id": "view-in-github",
        "colab_type": "text"
      },
      "source": [
        "<a href=\"https://colab.research.google.com/github/YoTaSo/datascience/blob/main/rl/qlearning.ipynb\" target=\"_parent\"><img src=\"https://colab.research.google.com/assets/colab-badge.svg\" alt=\"Open In Colab\"/></a>"
      ]
    },
    {
      "cell_type": "markdown",
      "metadata": {
        "id": "qMsBstERffLX"
      },
      "source": [
        "# import libraries"
      ]
    },
    {
      "cell_type": "code",
      "metadata": {
        "id": "nA2No0XnUOHD",
        "colab": {
          "base_uri": "https://localhost:8080/",
          "height": 131
        },
        "outputId": "4bafe8ef-725b-475a-8f2c-6b7b9854cd54"
      },
      "source": [
        "import os\n",
        "from google.colab import drive\n",
        "drive.mount('/content/gdrive')\n",
        "root_path = 'gdrive/My Drive/RLD/TME3'\n",
        "os.chdir(root_path)\n",
        "import matplotlib\n",
        "#matplotlib.use(\"TkAgg\")\n",
        "import gym\n",
        "import gridworld\n",
        "from gym import wrappers, logger\n",
        "import numpy as np\n",
        "import copy\n",
        "import matplotlib.pyplot as plt"
      ],
      "execution_count": null,
      "outputs": [
        {
          "output_type": "stream",
          "text": [
            "Go to this URL in a browser: https://accounts.google.com/o/oauth2/auth?client_id=947318989803-6bn6qk8qdgf4n4g3pfee6491hc0brc4i.apps.googleusercontent.com&redirect_uri=urn%3aietf%3awg%3aoauth%3a2.0%3aoob&response_type=code&scope=email%20https%3a%2f%2fwww.googleapis.com%2fauth%2fdocs.test%20https%3a%2f%2fwww.googleapis.com%2fauth%2fdrive%20https%3a%2f%2fwww.googleapis.com%2fauth%2fdrive.photos.readonly%20https%3a%2f%2fwww.googleapis.com%2fauth%2fpeopleapi.readonly\n",
            "\n",
            "Enter your authorization code:\n",
            "··········\n",
            "Mounted at /content/gdrive\n"
          ],
          "name": "stdout"
        }
      ]
    },
    {
      "cell_type": "markdown",
      "metadata": {
        "id": "SVAcRQn7flmS"
      },
      "source": [
        "# learning agent classes"
      ]
    },
    {
      "cell_type": "code",
      "metadata": {
        "id": "-PtiDFdeHGcr"
      },
      "source": [
        "class QlearningAgent(object):\n",
        "  def __init__ (self,states,actions,lr=0.01,gamma=1,eps=0.3):\n",
        "    self.states=states\n",
        "    self.actions=np.arange(actions.n)\n",
        "    self.st=\"\"\n",
        "    self.lr=lr\n",
        "    self.eps=eps\n",
        "    self.gamma=gamma\n",
        "    #self.winstate=list(states.keys())[5]\n",
        "    #self.losestate=list(states.keys())[1]\n",
        "\n",
        "    #initilize Q-table\n",
        "    self.qtable={}\n",
        "    for s in self.states:\n",
        "      '''\n",
        "      if s==self.winstate:\n",
        "        self.qtable[s]=dict(zip(self.actions,np.ones(len(self.actions))))\n",
        "      elif s==self.losestate:\n",
        "        self.qtable[s]=dict(zip(self.actions,-np.ones(len(self.actions))))\n",
        "      else:\n",
        "      '''\n",
        "      self.qtable[s]=dict(zip(self.actions,np.zeros(len(self.actions))))\n",
        "    \n",
        "  def epsGreedpolicy(self,obs):\n",
        "      u=np.random.rand(1)[0]\n",
        "      dd=self.qtable[obs]\n",
        "      if u>self.eps:\n",
        "        a=max(dd, key=dd.get)\n",
        "      else:\n",
        "        a=np.random.choice(list(dd.keys()))\n",
        "      \n",
        "      return a\n",
        "      \n",
        "      \n",
        "  def updateQvals(self,st0,st1,action,r,done):\n",
        "      st0=str(st0.tolist())\n",
        "      st1=str(st1.tolist())\n",
        "      #\\if not done:\n",
        "      qst1=self.qtable[st1]\n",
        "      qst1a=max(list(qst1.values()))\n",
        "      qst0a=self.qtable[st0][action]\n",
        "      self.qtable[st0][action]=qst0a+self.lr*(r+self.gamma*qst1a-qst0a)\n",
        "\n",
        "  def act(self,obs):\n",
        "      obs=str(obs.tolist())\n",
        "      action=self.epsGreedpolicy(obs)\n",
        "      return action"
      ],
      "execution_count": null,
      "outputs": []
    },
    {
      "cell_type": "code",
      "metadata": {
        "id": "8V5UpFxNVnDW"
      },
      "source": [
        "class SARSAAgent(object):\n",
        "  def __init__ (self,states,actions,lr=0.01,gamma=1,eps=0.3):\n",
        "    self.states=states\n",
        "    self.actions=np.arange(actions.n)\n",
        "    self.st=\"\"\n",
        "    self.lr=lr\n",
        "    self.eps=eps\n",
        "    self.gamma=gamma\n",
        "    #self.winstate=list(states.keys())[5]\n",
        "    #self.losestate=list(states.keys())[1]\n",
        "\n",
        "    #initilize Q-table\n",
        "    self.qtable={}\n",
        "    for s in self.states:\n",
        "      '''\n",
        "      if s==self.winstate:\n",
        "        self.qtable[s]=dict(zip(self.actions,np.ones(len(self.actions))))\n",
        "      elif s==self.losestate:\n",
        "        self.qtable[s]=dict(zip(self.actions,-np.ones(len(self.actions))))\n",
        "      else:\n",
        "      '''\n",
        "      self.qtable[s]=dict(zip(self.actions,np.zeros(len(self.actions))))\n",
        "  \n",
        "  def epsGreedpolicy(self,obs):\n",
        "      u=np.random.rand(1)[0]\n",
        "      dd=self.qtable[obs]\n",
        "      if u>self.eps:\n",
        "        a=max(dd, key=dd.get)\n",
        "      else:\n",
        "        a=np.random.choice(list(dd.keys()))\n",
        "      return a\n",
        "      \n",
        "      \n",
        "  def updateQvals(self,st0,st1,action1,action2,r,done):\n",
        "      st0=str(st0.tolist())\n",
        "      st1=str(st1.tolist())\n",
        "\n",
        "      #if not done:\n",
        "      qst0a=self.qtable[st0][action1]\n",
        "      qst1a=self.qtable[st1][action2]\n",
        "      self.qtable[st0][action1]=qst0a+self.lr*(r+self.gamma*qst1a-qst0a)\n",
        "\n",
        "  def act(self,obs):\n",
        "      obs=str(obs.tolist())\n",
        "      action=self.epsGreedpolicy(obs)\n",
        "      return action"
      ],
      "execution_count": null,
      "outputs": []
    },
    {
      "cell_type": "code",
      "metadata": {
        "id": "iPa1MiRv-oUk"
      },
      "source": [
        "class DynaQAgent(object):\n",
        "  def __init__ (self,states,actions,terminal_states,lr=0.01,gamma=1,eps=0.3,k=10,alphaUpdate=.01):\n",
        "    self.states=states\n",
        "    self.actions=np.arange(actions.n)\n",
        "    self.st=\"\"\n",
        "    self.lr=lr\n",
        "    self.eps=eps\n",
        "    self.gamma=gamma\n",
        "    #self.winstate=list(states.keys())[5]\n",
        "    #self.losestate=list(states.keys())[1]\n",
        "    self.terminals=terminal_states\n",
        "\n",
        "    self.alphaUpdate=alphaUpdate\n",
        "    self.k=k\n",
        "\n",
        "    #initilize model\n",
        "    self.model={}\n",
        "    for s1 in self.states:\n",
        "      self.model[s1]={}\n",
        "      for a in self.actions:\n",
        "        self.model[s1][a]={}\n",
        "        for s2 in self.states:\n",
        "          self.model[s1][a][s2]=[0,0]\n",
        "\n",
        "\n",
        "\n",
        "    #initilize Q-table\n",
        "    self.qtable={}\n",
        "    for s in self.states:\n",
        "      '''\n",
        "      if s==self.winstate:\n",
        "        self.qtable[s]=dict(zip(self.actions,np.ones(len(self.actions))))\n",
        "      elif s==self.losestate:\n",
        "        self.qtable[s]=dict(zip(self.actions,-np.ones(len(self.actions))))\n",
        "      else:\n",
        "      '''\n",
        "      self.qtable[s]=dict(zip(self.actions,np.zeros(len(self.actions))))\n",
        "    \n",
        "  def epsGreedpolicy(self,obs):\n",
        "      u=np.random.rand(1)[0]\n",
        "      dd=self.qtable[obs]\n",
        "      if u>self.eps:\n",
        "        a=max(dd, key=dd.get)\n",
        "      else:\n",
        "        a=np.random.choice(list(dd.keys()))\n",
        "      \n",
        "      return a\n",
        "      \n",
        "  def updateModel(self,st0,st1,action,r,alphaR=0.1):\n",
        "    rr=self.model[st0][action][st1][0]\n",
        "    self.model[st0][action][st1][0]=rr+alphaR*(r-rr)\n",
        "    pp=self.model[st0][action][st1][1]\n",
        "    self.model[st0][action][st1][1]=pp+alphaR*(1-pp)\n",
        "    for ss in self.states:\n",
        "      if ss!= st1:\n",
        "        pp=self.model[st0][action][ss][1]\n",
        "        self.model[st0][action][ss][1]=pp+alphaR*(0-pp)\n",
        "  \n",
        "  def updatebyModel(self,alphaUpdate,k):\n",
        "    statesToUpdate=np.random.choice(list(self.states.keys()),k)\n",
        "    actionsToUpdate=np.random.choice(self.actions,k)\n",
        "    for s,a in zip(statesToUpdate,actionsToUpdate):\n",
        "      if s not in self.terminals:\n",
        "        ssdict=self.model[s][a]\n",
        "        qq=self.qtable[s][a]\n",
        "        self.qtable[s][a]=qq+alphaUpdate*(np.sum([ssdict[s1][1]*(ssdict[s1][0]+self.gamma*max(list(self.qtable[s1].values()))) for s1 in ssdict])-qq)\n",
        "\n",
        "\n",
        "\n",
        "  def updateQvals(self,st0,st1,action,r,done):\n",
        "      st0=str(st0.tolist())\n",
        "      st1=str(st1.tolist())\n",
        "      #\\if not done:\n",
        "      qst1=self.qtable[st1]\n",
        "      qst1a=max(list(qst1.values()))\n",
        "      qst0a=self.qtable[st0][action]\n",
        "      self.qtable[st0][action]=qst0a+self.lr*(r+self.gamma*qst1a-qst0a)\n",
        "      self.updateModel(st0,st1,action,r)\n",
        "      self.updatebyModel(self.alphaUpdate,self.k)\n",
        "      \n",
        "\n",
        "  def act(self,obs):\n",
        "      obs=str(obs.tolist())\n",
        "      action=self.epsGreedpolicy(obs)\n",
        "      return action"
      ],
      "execution_count": null,
      "outputs": []
    },
    {
      "cell_type": "code",
      "metadata": {
        "id": "4EpLmULGUXx_",
        "colab": {
          "base_uri": "https://localhost:8080/",
          "height": 607
        },
        "outputId": "9f6f41a2-0cb2-46d2-cdfc-7c93e14886eb"
      },
      "source": [
        "env = gym.make(\"gridworld-v0\")\n",
        "env.seed(0)  # Initialise le seed du pseudo-random\n",
        "print(env.action_space)  # Quelles sont les actions possibles\n",
        "print(env.step(1))  # faire action 1 et retourne l'observation, le reward, et un done un booleen (jeu fini ou pas)\n",
        "env.render()  # permet de visualiser la grille du jeu \n",
        "env.render(mode=\"human\") #visualisation sur la console\n",
        "statedic, mdp = env.getMDP()  # recupere le mdp : statedic\n",
        "print(\"Nombre d'etats : \",len(statedic))  # nombre d'etats ,statedic : etat-> numero de l'etat\n",
        "state, transitions = list(mdp.items())[0]\n",
        "print(state)  # un etat du mdp\n",
        "print(transitions)  # dictionnaire des transitions pour l'etat :  {action-> [proba,etat,reward,done]}\n"
      ],
      "execution_count": null,
      "outputs": [
        {
          "output_type": "stream",
          "text": [
            "Discrete(4)\n",
            "(array([[1, 1, 1, 1, 1, 1],\n",
            "       [1, 0, 0, 0, 3, 1],\n",
            "       [1, 0, 1, 0, 5, 1],\n",
            "       [1, 0, 0, 2, 0, 1],\n",
            "       [1, 1, 1, 1, 1, 1],\n",
            "       [1, 1, 1, 1, 1, 1]]), 0, False, {})\n"
          ],
          "name": "stdout"
        },
        {
          "output_type": "display_data",
          "data": {
            "image/png": "[encoded data removed]",
            "text/plain": [
              "<Figure size 432x288 with 1 Axes>"
            ]
          },
          "metadata": {
            "tags": []
          }
        },
        {
          "output_type": "stream",
          "text": [
            "  (West)\n",
            "\u001b[40m \u001b[0m\u001b[40m \u001b[0m\u001b[40m \u001b[0m\u001b[40m \u001b[0m\u001b[40m \u001b[0m\u001b[40m \u001b[0m\n",
            "\u001b[40m \u001b[0m\u001b[47m \u001b[0m\u001b[47m \u001b[0m\u001b[47m \u001b[0m\u001b[42m \u001b[0m\u001b[40m \u001b[0m\n",
            "\u001b[40m \u001b[0m\u001b[47m \u001b[0m\u001b[40m \u001b[0m\u001b[47m \u001b[0m\u001b[41m \u001b[0m\u001b[40m \u001b[0m\n",
            "\u001b[40m \u001b[0m\u001b[47m \u001b[0m\u001b[47m \u001b[0m\u001b[44m \u001b[0m\u001b[47m \u001b[0m\u001b[40m \u001b[0m\n",
            "\u001b[40m \u001b[0m\u001b[40m \u001b[0m\u001b[40m \u001b[0m\u001b[40m \u001b[0m\u001b[40m \u001b[0m\u001b[40m \u001b[0m\n",
            "\u001b[40m \u001b[0m\u001b[40m \u001b[0m\u001b[40m \u001b[0m\u001b[40m \u001b[0m\u001b[40m \u001b[0m\u001b[40m \u001b[0m\n",
            "Nombre d'etats :  11\n",
            "[[1, 1, 1, 1, 1, 1], [1, 0, 0, 0, 3, 1], [1, 0, 1, 0, 5, 1], [1, 0, 0, 0, 2, 1], [1, 1, 1, 1, 1, 1], [1, 1, 1, 1, 1, 1]]\n",
            "{0: [(0.8, '[[1, 1, 1, 1, 1, 1], [1, 0, 0, 0, 3, 1], [1, 0, 1, 0, 5, 1], [1, 0, 0, 0, 2, 1], [1, 1, 1, 1, 1, 1], [1, 1, 1, 1, 1, 1]]', 0, False), (0.1, '[[1, 1, 1, 1, 1, 1], [1, 0, 0, 0, 3, 1], [1, 0, 1, 0, 5, 1], [1, 0, 0, 0, 2, 1], [1, 1, 1, 1, 1, 1], [1, 1, 1, 1, 1, 1]]', 0, False), (0.1, '[[1, 1, 1, 1, 1, 1], [1, 0, 0, 0, 3, 1], [1, 0, 1, 0, 5, 1], [1, 0, 0, 2, 0, 1], [1, 1, 1, 1, 1, 1], [1, 1, 1, 1, 1, 1]]', 0, False)], 1: [(0.8, '[[1, 1, 1, 1, 1, 1], [1, 0, 0, 0, 3, 1], [1, 0, 1, 0, 2, 1], [1, 0, 0, 0, 0, 1], [1, 1, 1, 1, 1, 1], [1, 1, 1, 1, 1, 1]]', -1, True), (0.1, '[[1, 1, 1, 1, 1, 1], [1, 0, 0, 0, 3, 1], [1, 0, 1, 0, 5, 1], [1, 0, 0, 0, 2, 1], [1, 1, 1, 1, 1, 1], [1, 1, 1, 1, 1, 1]]', 0, False), (0.1, '[[1, 1, 1, 1, 1, 1], [1, 0, 0, 0, 3, 1], [1, 0, 1, 0, 5, 1], [1, 0, 0, 2, 0, 1], [1, 1, 1, 1, 1, 1], [1, 1, 1, 1, 1, 1]]', 0, False)], 2: [(0.1, '[[1, 1, 1, 1, 1, 1], [1, 0, 0, 0, 3, 1], [1, 0, 1, 0, 5, 1], [1, 0, 0, 0, 2, 1], [1, 1, 1, 1, 1, 1], [1, 1, 1, 1, 1, 1]]', 0, False), (0.1, '[[1, 1, 1, 1, 1, 1], [1, 0, 0, 0, 3, 1], [1, 0, 1, 0, 2, 1], [1, 0, 0, 0, 0, 1], [1, 1, 1, 1, 1, 1], [1, 1, 1, 1, 1, 1]]', -1, True), (0.8, '[[1, 1, 1, 1, 1, 1], [1, 0, 0, 0, 3, 1], [1, 0, 1, 0, 5, 1], [1, 0, 0, 2, 0, 1], [1, 1, 1, 1, 1, 1], [1, 1, 1, 1, 1, 1]]', 0, False)], 3: [(0.1, '[[1, 1, 1, 1, 1, 1], [1, 0, 0, 0, 3, 1], [1, 0, 1, 0, 5, 1], [1, 0, 0, 0, 2, 1], [1, 1, 1, 1, 1, 1], [1, 1, 1, 1, 1, 1]]', 0, False), (0.1, '[[1, 1, 1, 1, 1, 1], [1, 0, 0, 0, 3, 1], [1, 0, 1, 0, 2, 1], [1, 0, 0, 0, 0, 1], [1, 1, 1, 1, 1, 1], [1, 1, 1, 1, 1, 1]]', -1, True), (0.8, '[[1, 1, 1, 1, 1, 1], [1, 0, 0, 0, 3, 1], [1, 0, 1, 0, 5, 1], [1, 0, 0, 0, 2, 1], [1, 1, 1, 1, 1, 1], [1, 1, 1, 1, 1, 1]]', 0, False)]}\n"
          ],
          "name": "stdout"
        }
      ]
    },
    {
      "cell_type": "code",
      "metadata": {
        "id": "I1a6x_7bUaEO"
      },
      "source": [
        "# Execution avec un Agent\n",
        "#agent = RandomAgent(env.action_space)\n",
        "\n",
        "# Faire un fichier de log sur plusieurs scenarios\n",
        "outdir = 'gridworld-v0/random-agent-results'\n",
        "envm = wrappers.Monitor(env, directory=outdir, force=True)#, video_callable=False)\n",
        "\n",
        "env.setPlan(\"gridworldPlans/plan4.txt\", {0: -0.001, 3: 1, 4: 1, 5: -1, 6: -1})\n",
        "env.seed()  # Initialiser le pseudo aleatoire\n",
        "episode_count = 10000\n",
        "reward = 0\n",
        "done = False\n",
        "rsum = 0\n",
        "FPS = 0.0001"
      ],
      "execution_count": null,
      "outputs": []
    },
    {
      "cell_type": "code",
      "metadata": {
        "id": "JzZGclv-YeZO"
      },
      "source": [
        "#env.setPlan(\"gridworldPlans/plan4.txt\", {0: -0.001, 3: 1, 4: 1, 5: -1, 6: -1})\n",
        "#env.render()\n",
        "env._make(\"gridworldPlans/plan4.txt\",{0: -0.001, 3: 1, 4: 1, 5: -1, 6: -1})\n",
        "statedic, _ = env.getMDP()"
      ],
      "execution_count": null,
      "outputs": []
    },
    {
      "cell_type": "code",
      "metadata": {
        "id": "Ma_0V2pojs98"
      },
      "source": [
        "env.reset()\n",
        "env.render()"
      ],
      "execution_count": null,
      "outputs": []
    },
    {
      "cell_type": "code",
      "metadata": {
        "id": "K7kvdHMRUc-_"
      },
      "source": [
        "#qlAgent=QlearningAgent(env.states,env.action_space,lr=0.1,gamma=.9,eps=0.4)\n",
        "#rqAgent=[]\n",
        "episode_count = 10000\n",
        "for i in range(episode_count):\n",
        "  obs=env.reset()\n",
        "  j = 0\n",
        "  rsum = 0\n",
        "  \n",
        "  while True:\n",
        "    #action = polIterAgent.act(obs)#, reward, done)\n",
        "    st0=obs.copy()\n",
        "    action=qlAgent.act(obs)\n",
        "    obs, reward, done, _ = env.step(action)\n",
        "\n",
        "    qlAgent.updateQvals(st0,obs,action,reward,done)\n",
        "    \n",
        "    rsum += reward\n",
        "    j += 1\n",
        "    if done:\n",
        "      rqAgent.append(rsum)\n",
        "      if i%100==0:\n",
        "        print(\"Episode : \" + str(i) + \" rsum=\" + str(rsum) + \", \" + str(j) + \" actions\")\n",
        "        \n",
        "      break\n",
        "    \n",
        "print(\"done\")\n",
        "env.close()"
      ],
      "execution_count": null,
      "outputs": []
    },
    {
      "cell_type": "code",
      "metadata": {
        "id": "sT90DaTaReF2"
      },
      "source": [
        "\n",
        "plt.plot(np.cumsum(rqAgent))\n",
        "plt.xlabel(\"Episode\")\n",
        "plt.ylabel(\"Cumulative reward\")"
      ],
      "execution_count": null,
      "outputs": []
    },
    {
      "cell_type": "code",
      "metadata": {
        "id": "6ljuOcb5Zx3e"
      },
      "source": [
        "episode_count=100000\n",
        "sarsaAgnt=SARSAAgent(env.states,env.action_space,lr=0.1,gamma=.9,eps=0.4)\n",
        "rSarsAgent=[]\n",
        "for i in range(episode_count):\n",
        "  \n",
        "  obs0=env.reset()\n",
        "  \n",
        "\n",
        "  j = 0\n",
        "  rsum = 0\n",
        "  \n",
        "  while True:\n",
        "    #action = polIterAgent.act(obs)#, reward, done)\n",
        "    #st0=obs.copy()\n",
        "\n",
        "    obsx=obs0.copy()\n",
        "\n",
        "    action1=sarsaAgnt.act(obs0)\n",
        "    obs1, reward, done, _ = env.step(action1)\n",
        "\n",
        "\n",
        "    action2=sarsaAgnt.act(obs1)\n",
        "\n",
        "    sarsaAgnt.updateQvals(obsx,obs1,action1,action2,reward,done)\n",
        "    obs0=obs1.copy()\n",
        "    \n",
        "    rsum += reward\n",
        "    j += 1\n",
        "    if done:\n",
        "      rSarsAgent.append(rsum)\n",
        "      if i%500==0:\n",
        "        print(\"Episode : \" + str(i) + \" rsum=\" + str(rsum) + \", \" + str(j) + \" actions\")\n",
        "      break\n",
        "    \n",
        "print(\"done\")\n",
        "env.close()"
      ],
      "execution_count": null,
      "outputs": []
    },
    {
      "cell_type": "code",
      "metadata": {
        "id": "mWlldrNdSvIU",
        "colab": {
          "base_uri": "https://localhost:8080/",
          "height": 298
        },
        "outputId": "420d02fd-806b-4380-9df4-3e756e0f6188"
      },
      "source": [
        "plt.plot(np.cumsum(rSarsAgent))\n",
        "plt.xlabel(\"Episode\")\n",
        "plt.ylabel(\"Cumulative reward\")"
      ],
      "execution_count": null,
      "outputs": [
        {
          "output_type": "execute_result",
          "data": {
            "text/plain": [
              "Text(0, 0.5, 'Cumulative reward')"
            ]
          },
          "metadata": {
            "tags": []
          },
          "execution_count": 81
        },
        {
          "output_type": "display_data",
          "data": {
            "image/png": "[encoded data removed]",
            "text/plain": [
              "<Figure size 432x288 with 1 Axes>"
            ]
          },
          "metadata": {
            "tags": []
          }
        }
      ]
    },
    {
      "cell_type": "code",
      "metadata": {
        "id": "JGygZtcmewLn"
      },
      "source": [
        "\n",
        "episode_count=1000\n",
        "terminStates=list(set(env.states.keys()).difference(set(mdp.keys())))\n",
        "dynQAgnt=DynaQAgent(env.states,env.action_space,terminStates,lr=0.1,gamma=.9,eps=0.4,k=100,alphaUpdate=.4)\n",
        "rDyna=[]\n",
        "for i in range(episode_count):\n",
        "  obs=env.reset()\n",
        "  j = 0\n",
        "  rsum = 0\n",
        "  \n",
        "  while True:\n",
        "    #action = polIterAgent.act(obs)#, reward, done)\n",
        "    st0=obs.copy()\n",
        "    action=dynQAgnt.act(obs)\n",
        "    obs, reward, done, _ = env.step(action)\n",
        "\n",
        "    dynQAgnt.updateQvals(st0,obs,action,reward,done)\n",
        "    \n",
        "    rsum += reward\n",
        "    j += 1\n",
        "    if done:\n",
        "      rDyna.append(rsum)\n",
        "      if i%100==0:\n",
        "        print(\"Episode : \" + str(i) + \" rsum=\" + str(rsum) + \", \" + str(j) + \" actions\")\n",
        "      break\n",
        "    \n",
        "print(\"done\")\n",
        "env.close()"
      ],
      "execution_count": null,
      "outputs": []
    },
    {
      "cell_type": "code",
      "metadata": {
        "id": "HbelLXylTJA2",
        "colab": {
          "base_uri": "https://localhost:8080/",
          "height": 298
        },
        "outputId": "7d8a56b7-f84e-429f-ecea-9f2121d7f880"
      },
      "source": [
        "\n",
        "plt.plot(np.cumsum(rDyna))\n",
        "plt.xlabel(\"Episode\")\n",
        "plt.ylabel(\"Cumulative reward\")"
      ],
      "execution_count": null,
      "outputs": [
        {
          "output_type": "execute_result",
          "data": {
            "text/plain": [
              "Text(0, 0.5, 'Cumulative reward')"
            ]
          },
          "metadata": {
            "tags": []
          },
          "execution_count": 83
        },
        {
          "output_type": "display_data",
          "data": {
            "image/png": "[encoded data removed]",
            "text/plain": [
              "<Figure size 432x288 with 1 Axes>"
            ]
          },
          "metadata": {
            "tags": []
          }
        }
      ]
    }
  ]
}